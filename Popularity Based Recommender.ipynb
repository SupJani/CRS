{
 "cells": [
  {
   "cell_type": "code",
   "execution_count": 1,
   "metadata": {},
   "outputs": [],
   "source": [
    "#importing libraries\n",
    "import pandas as pd\n",
    "import numpy as np\n",
    "from tkinter import *\n",
    "import tkinter as tk\n",
    "from tkinter import ttk\n",
    "\n",
    "\n",
    "from tkinter.messagebox import *\n",
    "root=Tk()\n"
   ]
  },
  {
   "cell_type": "code",
   "execution_count": 2,
   "metadata": {},
   "outputs": [
    {
     "name": "stdout",
     "output_type": "stream",
     "text": [
      "   Serial No.  GREScore  TOEFLScore  University Rating  SOP  LOR   CGPA  \\\n",
      "0           1       337         118                  4  4.5   4.5  9.65   \n",
      "1           2       324         107                  4  4.0   4.5  8.87   \n",
      "2           3       316         104                  3  3.0   3.5  8.00   \n",
      "3           4       322         110                  3  3.5   2.5  8.67   \n",
      "4           5       314         103                  2  2.0   3.0  8.21   \n",
      "5           7       321         109                  3  3.0   4.0  8.20   \n",
      "6           8       308         101                  2  3.0   4.0  7.90   \n",
      "7           9       302         102                  1  2.0   1.5  8.00   \n",
      "8          10       323         108                  3  3.5   3.0  8.60   \n",
      "9          11       325         106                  3  3.5   4.0  8.40   \n",
      "\n",
      "   Research  Admit   \n",
      "0         1    0.92  \n",
      "1         1    0.76  \n",
      "2         1    0.72  \n",
      "3         1    0.80  \n",
      "4         0    0.65  \n",
      "5         1    0.75  \n",
      "6         0    0.68  \n",
      "7         0    0.50  \n",
      "8         0    0.45  \n",
      "9         1    0.52  \n"
     ]
    },
    {
     "ename": "TclError",
     "evalue": "can't invoke \"entry\" command: application has been destroyed",
     "output_type": "error",
     "traceback": [
      "\u001b[1;31m---------------------------------------------------------------------------\u001b[0m",
      "\u001b[1;31mTclError\u001b[0m                                  Traceback (most recent call last)",
      "\u001b[1;32m<ipython-input-2-880b6102eac2>\u001b[0m in \u001b[0;36m<module>\u001b[1;34m\u001b[0m\n\u001b[0;32m      9\u001b[0m \u001b[1;32mfor\u001b[0m \u001b[0mi\u001b[0m \u001b[1;32min\u001b[0m \u001b[0mrange\u001b[0m\u001b[1;33m(\u001b[0m\u001b[0mheight\u001b[0m\u001b[1;33m)\u001b[0m\u001b[1;33m:\u001b[0m\u001b[1;33m\u001b[0m\u001b[1;33m\u001b[0m\u001b[0m\n\u001b[0;32m     10\u001b[0m     \u001b[1;32mfor\u001b[0m \u001b[0mj\u001b[0m \u001b[1;32min\u001b[0m \u001b[0mrange\u001b[0m\u001b[1;33m(\u001b[0m\u001b[0mwidth\u001b[0m\u001b[1;33m)\u001b[0m\u001b[1;33m:\u001b[0m\u001b[1;33m\u001b[0m\u001b[1;33m\u001b[0m\u001b[0m\n\u001b[1;32m---> 11\u001b[1;33m         \u001b[0mb\u001b[0m\u001b[1;33m=\u001b[0m\u001b[0mEntry\u001b[0m\u001b[1;33m(\u001b[0m\u001b[0mroot\u001b[0m\u001b[1;33m,\u001b[0m\u001b[0mtext\u001b[0m\u001b[1;33m=\u001b[0m\u001b[1;34m\"\"\u001b[0m\u001b[1;33m)\u001b[0m\u001b[1;33m\u001b[0m\u001b[1;33m\u001b[0m\u001b[0m\n\u001b[0m\u001b[0;32m     12\u001b[0m         \u001b[0mb\u001b[0m\u001b[1;33m.\u001b[0m\u001b[0mgrid\u001b[0m\u001b[1;33m(\u001b[0m\u001b[0mrow\u001b[0m\u001b[1;33m=\u001b[0m\u001b[0mi\u001b[0m\u001b[1;33m,\u001b[0m \u001b[0mcolumn\u001b[0m\u001b[1;33m=\u001b[0m\u001b[0mj\u001b[0m\u001b[1;33m)\u001b[0m\u001b[1;33m\u001b[0m\u001b[1;33m\u001b[0m\u001b[0m\n\u001b[0;32m     13\u001b[0m         \u001b[0ma\u001b[0m\u001b[1;33m=\u001b[0m\u001b[0mdata\u001b[0m\u001b[1;33m.\u001b[0m\u001b[0mhead\u001b[0m\u001b[1;33m(\u001b[0m\u001b[1;36m10\u001b[0m\u001b[1;33m)\u001b[0m\u001b[1;33m\u001b[0m\u001b[1;33m\u001b[0m\u001b[0m\n",
      "\u001b[1;32m~\\AppData\\Local\\Continuum\\anaconda3\\lib\\tkinter\\__init__.py\u001b[0m in \u001b[0;36m__init__\u001b[1;34m(self, master, cnf, **kw)\u001b[0m\n\u001b[0;32m   2674\u001b[0m         \u001b[0mtextvariable\u001b[0m\u001b[1;33m,\u001b[0m \u001b[0mvalidate\u001b[0m\u001b[1;33m,\u001b[0m \u001b[0mvalidatecommand\u001b[0m\u001b[1;33m,\u001b[0m \u001b[0mvcmd\u001b[0m\u001b[1;33m,\u001b[0m \u001b[0mwidth\u001b[0m\u001b[1;33m,\u001b[0m\u001b[1;33m\u001b[0m\u001b[1;33m\u001b[0m\u001b[0m\n\u001b[0;32m   2675\u001b[0m         xscrollcommand.\"\"\"\n\u001b[1;32m-> 2676\u001b[1;33m         \u001b[0mWidget\u001b[0m\u001b[1;33m.\u001b[0m\u001b[0m__init__\u001b[0m\u001b[1;33m(\u001b[0m\u001b[0mself\u001b[0m\u001b[1;33m,\u001b[0m \u001b[0mmaster\u001b[0m\u001b[1;33m,\u001b[0m \u001b[1;34m'entry'\u001b[0m\u001b[1;33m,\u001b[0m \u001b[0mcnf\u001b[0m\u001b[1;33m,\u001b[0m \u001b[0mkw\u001b[0m\u001b[1;33m)\u001b[0m\u001b[1;33m\u001b[0m\u001b[1;33m\u001b[0m\u001b[0m\n\u001b[0m\u001b[0;32m   2677\u001b[0m     \u001b[1;32mdef\u001b[0m \u001b[0mdelete\u001b[0m\u001b[1;33m(\u001b[0m\u001b[0mself\u001b[0m\u001b[1;33m,\u001b[0m \u001b[0mfirst\u001b[0m\u001b[1;33m,\u001b[0m \u001b[0mlast\u001b[0m\u001b[1;33m=\u001b[0m\u001b[1;32mNone\u001b[0m\u001b[1;33m)\u001b[0m\u001b[1;33m:\u001b[0m\u001b[1;33m\u001b[0m\u001b[1;33m\u001b[0m\u001b[0m\n\u001b[0;32m   2678\u001b[0m         \u001b[1;34m\"\"\"Delete text from FIRST to LAST (not included).\"\"\"\u001b[0m\u001b[1;33m\u001b[0m\u001b[1;33m\u001b[0m\u001b[0m\n",
      "\u001b[1;32m~\\AppData\\Local\\Continuum\\anaconda3\\lib\\tkinter\\__init__.py\u001b[0m in \u001b[0;36m__init__\u001b[1;34m(self, master, widgetName, cnf, kw, extra)\u001b[0m\n\u001b[0;32m   2297\u001b[0m             \u001b[1;32mdel\u001b[0m \u001b[0mcnf\u001b[0m\u001b[1;33m[\u001b[0m\u001b[0mk\u001b[0m\u001b[1;33m]\u001b[0m\u001b[1;33m\u001b[0m\u001b[1;33m\u001b[0m\u001b[0m\n\u001b[0;32m   2298\u001b[0m         self.tk.call(\n\u001b[1;32m-> 2299\u001b[1;33m             (widgetName, self._w) + extra + self._options(cnf))\n\u001b[0m\u001b[0;32m   2300\u001b[0m         \u001b[1;32mfor\u001b[0m \u001b[0mk\u001b[0m\u001b[1;33m,\u001b[0m \u001b[0mv\u001b[0m \u001b[1;32min\u001b[0m \u001b[0mclasses\u001b[0m\u001b[1;33m:\u001b[0m\u001b[1;33m\u001b[0m\u001b[1;33m\u001b[0m\u001b[0m\n\u001b[0;32m   2301\u001b[0m             \u001b[0mk\u001b[0m\u001b[1;33m.\u001b[0m\u001b[0mconfigure\u001b[0m\u001b[1;33m(\u001b[0m\u001b[0mself\u001b[0m\u001b[1;33m,\u001b[0m \u001b[0mv\u001b[0m\u001b[1;33m)\u001b[0m\u001b[1;33m\u001b[0m\u001b[1;33m\u001b[0m\u001b[0m\n",
      "\u001b[1;31mTclError\u001b[0m: can't invoke \"entry\" command: application has been destroyed"
     ]
    }
   ],
   "source": [
    "#reading the files\n",
    "data = pd.read_csv('Admission_Predict.csv', encoding = 'latin-1')\n",
    "#univ = pd.read_csv('Admission_Predict_Ver1.1.csv', encoding = 'latin-1')\n",
    "def pp():\n",
    "    height=10\n",
    "    width=10\n",
    "height=10\n",
    "width=10\n",
    "for i in range(height):\n",
    "    for j in range(width):\n",
    "        b=Entry(root,text=\"\")\n",
    "        b.grid(row=i, column=j)\n",
    "        a=data.head(10)\n",
    "        print(a)\n",
    "        #root.bind()\n",
    "        \n",
    "        mainloop()\n"
   ]
  },
  {
   "cell_type": "code",
   "execution_count": null,
   "metadata": {},
   "outputs": [],
   "source": [
    "#using head() function to view first 10 rows for the object based on position. Just to test if we have right data.\n",
    "a=data.head(10)\n",
    "print(a)"
   ]
  },
  {
   "cell_type": "code",
   "execution_count": null,
   "metadata": {},
   "outputs": [],
   "source": [
    "#univ.head(10)"
   ]
  },
  {
   "cell_type": "code",
   "execution_count": null,
   "metadata": {},
   "outputs": [],
   "source": [
    "# Getting recommendation based on No. Of ratings \n",
    "rating_count = pd.DataFrame(data, columns=['GRE Score','University Rating'])\n",
    "\n",
    "rating_count.sort_values('University Rating', ascending=False).drop_duplicates().head(5)\n",
    "\n"
   ]
  },
  {
   "cell_type": "code",
   "execution_count": null,
   "metadata": {},
   "outputs": [],
   "source": [
    "# getting the most rated university\n",
    "\n",
    "most_rated_univ = pd.DataFrame(data, columns=['University Rating', 'Uname', 'CGPA'])\n",
    "most_rated_univ.max()"
   ]
  },
  {
   "cell_type": "code",
   "execution_count": null,
   "metadata": {},
   "outputs": [],
   "source": [
    "#getting description for most rated university\n",
    "most_rated_univ.describe()"
   ]
  },
  {
   "cell_type": "code",
   "execution_count": null,
   "metadata": {},
   "outputs": [],
   "source": [
    "# getting top 3 most universities\n",
    "data= pd.DataFrame(most_rated_univ.groupby(['University Rating'])['CGPA'].count())\n",
    " \n",
    "# Arranging the output in descending order and taking head to get the top 10 most popular universiities\n",
    "count_top10 = most_rated_univ.sort_values('University Rating', ascending=False).head(10)\n",
    " \n",
    "\n",
    " \n",
    "\n"
   ]
  },
  {
   "cell_type": "code",
   "execution_count": null,
   "metadata": {},
   "outputs": [],
   "source": [
    "import pandas as pd\n",
    "import numpy as np\n",
    "from tkinter import *\n",
    "import tkinter as tk\n",
    "from tkinter import ttk\n",
    "\n",
    "import tkinter as tk\n",
    "from tkinter import ttk\n",
    "\n",
    "def show():\n",
    "    \n",
    "    #data = pd.read_csv('Admission_Predict_Ver1.1.csv', encoding = 'latin-1')\n",
    "    \n",
    "    data = pd.read_csv('Admission_Predict_Ver1.1.csv', encoding = 'latin-1')\n",
    "    tempList=data[['Serial No.','GRE Score','Uname']].head(20)\n",
    "    #print(tempList[['Serial No.', 'GRE Score', 'TOEFL Score']])\n",
    "    tempList.sort_values(by='GRE Score')\n",
    "    #print(tempList)\n",
    "\n",
    "    for Serialno, GRE, TOEFL in tempList.values:\n",
    "        listBox.insert(\"\", \"end\", values=(Serialno, GRE, TOEFL))\n",
    "        #print(tempList.columns.values).head(10)\n",
    "\n",
    "scores = tk.Tk() \n",
    "label = tk.Label(scores, text=\"Top 20 University Listings\", font=(\"Arial\",30)).grid(row=0, columnspan=3)\n",
    "# create Treeview with 3 columns\n",
    "cols = ('SerialNo.', 'GRE Score', 'Uname')\n",
    "listBox = ttk.Treeview(scores, columns=cols, show='headings')\n",
    "# set column headings\n",
    "for col in cols:\n",
    "    listBox.heading(col, text=col)    \n",
    "listBox.grid(row=1, column=0, columnspan=2)\n",
    "\n",
    "showScores = tk.Button(scores, text=\"Show University Name\", width=20, command=show).grid(row=4, column=0)\n",
    "closeButton = tk.Button(scores, text=\"Close\", width=15, command=scores.destroy).grid(row=4, column=1)\n",
    "\n",
    "scores.mainloop()"
   ]
  },
  {
   "cell_type": "code",
   "execution_count": null,
   "metadata": {},
   "outputs": [],
   "source": []
  },
  {
   "cell_type": "code",
   "execution_count": null,
   "metadata": {},
   "outputs": [],
   "source": []
  },
  {
   "cell_type": "code",
   "execution_count": null,
   "metadata": {},
   "outputs": [],
   "source": []
  },
  {
   "cell_type": "code",
   "execution_count": null,
   "metadata": {},
   "outputs": [],
   "source": []
  }
 ],
 "metadata": {
  "kernelspec": {
   "display_name": "Python 3",
   "language": "python",
   "name": "python3"
  },
  "language_info": {
   "codemirror_mode": {
    "name": "ipython",
    "version": 3
   },
   "file_extension": ".py",
   "mimetype": "text/x-python",
   "name": "python",
   "nbconvert_exporter": "python",
   "pygments_lexer": "ipython3",
   "version": "3.7.1"
  }
 },
 "nbformat": 4,
 "nbformat_minor": 2
}
