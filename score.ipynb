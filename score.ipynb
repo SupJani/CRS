{
 "cells": [
  {
   "cell_type": "code",
   "execution_count": 6,
   "metadata": {},
   "outputs": [
    {
     "name": "stdout",
     "output_type": "stream",
     "text": [
      "GRE Quantitative150\n",
      "GRE Verbal140\n",
      "TOEFL Score100\n",
      "Percent80\n",
      "50.0\n",
      "25.0\n",
      "86.66666666666667\n",
      "80\n"
     ]
    }
   ],
   "source": [
    "OldValue1 = int(input(\"GRE Quantitative\"))\n",
    "OldValue2 = int(input(\"GRE Verbal\"))\n",
    "OldValue3 = int(input(\"TOEFL Score\"))\n",
    "percent = int(input(\"Percent\"))\n",
    "#Quants\n",
    "OldMax = 170\n",
    "OldMin = 130\n",
    "NewMax = 100\n",
    "NewMin = 0\n",
    "OldRange = (OldMax - OldMin)  \n",
    "NewRange = (NewMax - NewMin)  \n",
    "GREQ = (((OldValue1 - OldMin) * NewRange) / OldRange) + NewMin\n",
    "print(GREQ)\n",
    "#Verbal\n",
    "OldMax = 170\n",
    "OldMin = 130\n",
    "NewMax = 100\n",
    "NewMin = 0\n",
    "int(OldValue2)\n",
    "OldRange = (OldMax - OldMin)  \n",
    "NewRange = (NewMax - NewMin)  \n",
    "GREV = (((OldValue2 - OldMin) * NewRange) / OldRange) + NewMin\n",
    "print(GREV)\n",
    "#Toefl\n",
    "OldMax = 120\n",
    "OldMin = 0\n",
    "NewMax = 100\n",
    "NewMin = 20\n",
    "int(OldValue3)\n",
    "#Toefl\n",
    "OldRange = (OldMax - OldMin)  \n",
    "NewRange = (NewMax - NewMin)  \n",
    "Toefl = (((OldValue3 - OldMin) * NewRange) / OldRange) + NewMin\n",
    "print(Toefl)\n",
    "print(percent)\n"
   ]
  },
  {
   "cell_type": "code",
   "execution_count": 7,
   "metadata": {},
   "outputs": [
    {
     "data": {
      "text/plain": [
       "64"
      ]
     },
     "execution_count": 7,
     "metadata": {},
     "output_type": "execute_result"
    }
   ],
   "source": [
    "avg = int((GREQ*2+GREV*1.5+Toefl*0.4+percent*1)/3.9)\n",
    "avg"
   ]
  },
  {
   "cell_type": "code",
   "execution_count": null,
   "metadata": {},
   "outputs": [],
   "source": []
  }
 ],
 "metadata": {
  "kernelspec": {
   "display_name": "Python 3",
   "language": "python",
   "name": "python3"
  },
  "language_info": {
   "codemirror_mode": {
    "name": "ipython",
    "version": 3
   },
   "file_extension": ".py",
   "mimetype": "text/x-python",
   "name": "python",
   "nbconvert_exporter": "python",
   "pygments_lexer": "ipython3",
   "version": "3.7.1"
  }
 },
 "nbformat": 4,
 "nbformat_minor": 2
}
