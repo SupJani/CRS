{
 "cells": [
  {
   "cell_type": "code",
   "execution_count": 37,
   "metadata": {},
   "outputs": [],
   "source": [
    "import pandas as pd\n",
    "import numpy as np\n",
    "#import pandas as pd\n",
    "data1 = pd.read_csv('Admission_predict_Ver1.1.csv', encoding = 'latin-1')\n",
    "#u = pd.read_csv('Admission_predict.csv', encoding = 'latin-1')\n",
    "import matplotlib.pyplot as plt\n",
    "%matplotlib inline\n"
   ]
  },
  {
   "cell_type": "code",
   "execution_count": 38,
   "metadata": {},
   "outputs": [
    {
     "data": {
      "text/plain": [
       "<bound method NDFrame.head of      Serial No.  GRE Score  TOEFL Score  University Rating  SOP  LOR   CGPA  \\\n",
       "0             1        337          118                  4  4.5   4.5  9.65   \n",
       "1             2        324          107                  4  4.0   4.5  8.87   \n",
       "2             3        316          104                  3  3.0   3.5  8.00   \n",
       "3             4        322          110                  3  3.5   2.5  8.67   \n",
       "4             5        314          103                  2  2.0   3.0  8.21   \n",
       "..          ...        ...          ...                ...  ...   ...   ...   \n",
       "495         496        332          108                  5  4.5   4.0  9.02   \n",
       "496         497        337          117                  5  5.0   5.0  9.87   \n",
       "497         498        330          120                  5  4.5   5.0  9.56   \n",
       "498         499        312          103                  4  4.0   5.0  8.43   \n",
       "499         500        327          113                  4  4.5   4.5  9.04   \n",
       "\n",
       "     Admit  \n",
       "0        1  \n",
       "1        1  \n",
       "2        1  \n",
       "3        1  \n",
       "4        0  \n",
       "..     ...  \n",
       "495      1  \n",
       "496      1  \n",
       "497      1  \n",
       "498      0  \n",
       "499      0  \n",
       "\n",
       "[500 rows x 8 columns]>"
      ]
     },
     "execution_count": 38,
     "metadata": {},
     "output_type": "execute_result"
    }
   ],
   "source": [
    "data1.head"
   ]
  },
  {
   "cell_type": "code",
   "execution_count": 39,
   "metadata": {},
   "outputs": [],
   "source": [
    "y = data1.Admit\n",
    "X= data1.drop('Admit',axis=1)\n",
    "\n"
   ]
  },
  {
   "cell_type": "code",
   "execution_count": 40,
   "metadata": {},
   "outputs": [],
   "source": [
    "from sklearn.model_selection import train_test_split\n",
    "X_train, X_test, y_train, y_test = train_test_split(X, y, test_size = 0.20)\n"
   ]
  },
  {
   "cell_type": "code",
   "execution_count": 41,
   "metadata": {},
   "outputs": [
    {
     "data": {
      "text/plain": [
       "SVC(C=1.0, cache_size=200, class_weight=None, coef0=0.0,\n",
       "    decision_function_shape='ovr', degree=3, gamma='auto_deprecated',\n",
       "    kernel='linear', max_iter=-1, probability=False, random_state=None,\n",
       "    shrinking=True, tol=0.001, verbose=False)"
      ]
     },
     "execution_count": 41,
     "metadata": {},
     "output_type": "execute_result"
    }
   ],
   "source": [
    "from sklearn.svm import SVC\n",
    "svclassifier = SVC(kernel='linear')\n",
    "svclassifier.fit(X_train, y_train)\n"
   ]
  },
  {
   "cell_type": "code",
   "execution_count": 42,
   "metadata": {},
   "outputs": [
    {
     "data": {
      "text/plain": [
       "<bound method NDFrame.head of      Serial No.  GRE Score  TOEFL Score  University Rating  SOP  LOR   CGPA\n",
       "0             1        337          118                  4  4.5   4.5  9.65\n",
       "1             2        324          107                  4  4.0   4.5  8.87\n",
       "2             3        316          104                  3  3.0   3.5  8.00\n",
       "3             4        322          110                  3  3.5   2.5  8.67\n",
       "4             5        314          103                  2  2.0   3.0  8.21\n",
       "..          ...        ...          ...                ...  ...   ...   ...\n",
       "495         496        332          108                  5  4.5   4.0  9.02\n",
       "496         497        337          117                  5  5.0   5.0  9.87\n",
       "497         498        330          120                  5  4.5   5.0  9.56\n",
       "498         499        312          103                  4  4.0   5.0  8.43\n",
       "499         500        327          113                  4  4.5   4.5  9.04\n",
       "\n",
       "[500 rows x 7 columns]>"
      ]
     },
     "execution_count": 42,
     "metadata": {},
     "output_type": "execute_result"
    }
   ],
   "source": [
    "X.head"
   ]
  },
  {
   "cell_type": "code",
   "execution_count": 36,
   "metadata": {},
   "outputs": [
    {
     "data": {
      "text/plain": [
       "(500,)"
      ]
     },
     "execution_count": 36,
     "metadata": {},
     "output_type": "execute_result"
    }
   ],
   "source": [
    "y.shape"
   ]
  },
  {
   "cell_type": "code",
   "execution_count": null,
   "metadata": {},
   "outputs": [],
   "source": []
  },
  {
   "cell_type": "code",
   "execution_count": null,
   "metadata": {},
   "outputs": [],
   "source": []
  },
  {
   "cell_type": "code",
   "execution_count": 51,
   "metadata": {},
   "outputs": [],
   "source": [
    "#GUI FOR PREDICTION\n",
    "from tkinter import *\n",
    "\n",
    "AllButtonsColor = 'black'\n",
    "Active = 'white'\n",
    "ButtonsFont =('arial',18,'bold')\n",
    "bgcolor = 'lightgray'\n",
    "fgcolor = 'black'\n",
    "\n",
    "master = Tk()\n",
    "master.configure(bg = 'light gray')\n",
    "\n",
    "Header = Label(master,text = \"College Prediction\",font = ButtonsFont,bg = bgcolor,fg = fgcolor)\n",
    "Header.grid(row = 0 , column = 2)\n",
    "\n",
    "GRE_label = Label(master, text = \" GRE Score\", font = ButtonsFont, bg = bgcolor, fg = fgcolor)\n",
    "GRE_label.grid(row = 2, column = 0, columnspan = 2)\n",
    " \n",
    "GRE_entry = Entry(master,width = 25,font = ButtonsFont,bg = Active)\n",
    "GRE_entry.grid(row = 2, column = 3, columnspan = 3)\n",
    "\n",
    "CGPA_label = Label(master, text = \"CGPA\", font = ButtonsFont, bg = bgcolor, fg = fgcolor)\n",
    "CGPA_label.grid(row = 3, column = 0, columnspan = 2)\n",
    " \n",
    "CGPA_entry = Entry(master,width = 25,font = ButtonsFont,bg = Active)\n",
    "CGPA_entry.grid(row = 3, column = 3, columnspan = 3)\n",
    "\n",
    "TOEFL_label = Label(master, text = \"TOEFL Score\", font = ButtonsFont, bg = bgcolor, fg = fgcolor)\n",
    "TOEFL_label.grid(row = 4, column = 0, columnspan = 2)\n",
    " \n",
    "TOEFL_entry = Entry(master,width = 25,font = ButtonsFont,bg = Active)\n",
    "TOEFL_entry.grid(row = 4, column = 3, columnspan = 3)\n",
    "\n",
    "twelth_label = Label(master, text = \"12th Percentage\", font = ButtonsFont, bg = bgcolor, fg = fgcolor)\n",
    "twelth_label.grid(row = 5, column = 0, columnspan = 2)\n",
    " \n",
    "twelth_entry = Entry(master,width = 25,font = ButtonsFont,bg = Active)\n",
    "twelth_entry.grid(row = 5, column = 3, columnspan = 3)\n",
    "\n",
    "tenth_label = Label(master, text = \"10th Percentage\", font = ButtonsFont, bg = bgcolor, fg = fgcolor)\n",
    "tenth_label.grid(row = 6, column = 0, columnspan = 2)\n",
    " \n",
    "tenth_entry = Entry(master,width = 25,font = ButtonsFont,bg = Active)\n",
    "tenth_entry.grid(row = 6, column = 3, columnspan = 3)\n",
    "\n",
    "research_label = Label(master, text = \" Reasearch paper ?\", font = ButtonsFont, bg = bgcolor, fg = fgcolor)\n",
    "research_label.grid(row = 7, column = 0, columnspan = 2)\n",
    " \n",
    "research_entry = Entry(master,width = 25,font = ButtonsFont,bg = Active)\n",
    "research_entry.grid(row = 7, column = 3, columnspan = 3)\n",
    "\n",
    "pred = Label(master, text = \"Predicted college\", font = ButtonsFont, bg = bgcolor, fg = fgcolor)\n",
    "pred.grid(row = 8, column = 2)\n",
    "\n",
    "submit = Button(master,text= \"svm\",width = 6 , command=None ,font = ButtonsFont)\n",
    "submit.grid(row = 9 , column = 2)\n",
    "from tkinter import *\n",
    "\n",
    "AllButtonsColor = 'black'\n",
    "Active = 'white'\n",
    "ButtonsFont =('arial',18,'bold')\n",
    "bgcolor = 'lightgray'\n",
    "fgcolor = 'black'\n",
    "\n",
    "master = Tk()\n",
    "master.configure(bg = 'light gray')\n",
    "\n",
    "Header = Label(master,text = \"College Prediction\",font = ButtonsFont,bg = bgcolor,fg = fgcolor)\n",
    "Header.grid(row = 0 , column = 2)\n",
    "\n",
    "GRE_label = Label(master, text = \"Enter GRE Score\", font = ButtonsFont, bg = bgcolor, fg = fgcolor)\n",
    "GRE_label.grid(row = 2, column = 0, columnspan = 2)\n",
    " \n",
    "GRE_entry = Entry(master,width = 25,font = ButtonsFont,bg = Active)\n",
    "GRE_entry.grid(row = 2, column = 3, columnspan = 3)\n",
    "\n",
    "CGPA_label = Label(master, text = \"Enter CGPA\", font = ButtonsFont, bg = bgcolor, fg = fgcolor)\n",
    "CGPA_label.grid(row = 3, column = 0, columnspan = 2)\n",
    " \n",
    "CGPA_entry = Entry(master,width = 25,font = ButtonsFont,bg = Active)\n",
    "CGPA_entry.grid(row = 3, column = 3, columnspan = 3)\n",
    "\n",
    "TOEFL_label = Label(master, text = \"Enter TOEFL Score\", font = ButtonsFont, bg = bgcolor, fg = fgcolor)\n",
    "TOEFL_label.grid(row = 4, column = 0, columnspan = 2)\n",
    " \n",
    "TOEFL_entry = Entry(master,width = 25,font = ButtonsFont,bg = Active)\n",
    "TOEFL_entry.grid(row = 4, column = 3, columnspan = 3)\n",
    "\n",
    "twelth_label = Label(master, text = \"Enter 12th Percentage\", font = ButtonsFont, bg = bgcolor, fg = fgcolor)\n",
    "twelth_label.grid(row = 5, column = 0, columnspan = 2)\n",
    " \n",
    "twelth_entry = Entry(master,width = 25,font = ButtonsFont,bg = Active)\n",
    "twelth_entry.grid(row = 5, column = 3, columnspan = 3)\n",
    "\n",
    "tenth_label = Label(master, text = \"Enter 10th Percentage\", font = ButtonsFont, bg = bgcolor, fg = fgcolor)\n",
    "tenth_label.grid(row = 6, column = 0, columnspan = 2)\n",
    " \n",
    "tenth_entry = Entry(master,width = 25,font = ButtonsFont,bg = Active)\n",
    "tenth_entry.grid(row = 6, column = 3, columnspan = 3)\n",
    "\n",
    "research_label = Label(master, text = \"Published Reasearch paper ?\", font = ButtonsFont, bg = bgcolor, fg = fgcolor)\n",
    "research_label.grid(row = 7, column = 0, columnspan = 2)\n",
    " \n",
    "research_entry = Entry(master,width = 25,font = ButtonsFont,bg = Active)\n",
    "research_entry.grid(row = 7, column = 3, columnspan = 3)\n",
    "\n",
    "pred = Label(master, text = \"Predicted college\", font = ButtonsFont, bg = bgcolor, fg = fgcolor)\n",
    "pred.grid(row = 8, column = 2)\n",
    "\n",
    "submit = Button(master,text= \"Predict\",width = 6 , command=None ,font = ButtonsFont)\n",
    "submit.grid(row = 9 , column = 2)\n",
    "#submit1 = Button(master,text= \"svm\",width = 6 , command=None ,font = ButtonsFont)\n",
    "#submit1.grid(row = 9 , column = 2)\n",
    "master.mainloop()\n",
    "from tkinter import *\n",
    "\n",
    "AllButtonsColor = 'black'\n",
    "Active = 'white'\n",
    "ButtonsFont =('arial',18,'bold')\n",
    "bgcolor = 'lightgray'\n",
    "fgcolor = 'black'\n",
    "\n",
    "master = Tk()\n",
    "master.configure(bg = 'light gray')\n",
    "\n",
    "Header = Label(master,text = \"College Prediction\",font = ButtonsFont,bg = bgcolor,fg = fgcolor)\n",
    "Header.grid(row = 0 , column = 2)\n",
    "\n",
    "GRE_label = Label(master, text = \"GRE Score\", font = ButtonsFont, bg = bgcolor, fg = fgcolor)\n",
    "GRE_label.grid(row = 2, column = 0, columnspan = 2)\n",
    " \n",
    "GRE_entry = Entry(master,width = 25,font = ButtonsFont,bg = Active)\n",
    "GRE_entry.grid(row = 2, column = 3, columnspan = 3)\n",
    "\n",
    "CGPA_label = Label(master, text = \" CGPA\", font = ButtonsFont, bg = bgcolor, fg = fgcolor)\n",
    "CGPA_label.grid(row = 3, column = 0, columnspan = 2)\n",
    " \n",
    "CGPA_entry = Entry(master,width = 25,font = ButtonsFont,bg = Active)\n",
    "CGPA_entry.grid(row = 3, column = 3, columnspan = 3)\n",
    "\n",
    "TOEFL_label = Label(master, text = \" TOEFL Score\", font = ButtonsFont, bg = bgcolor, fg = fgcolor)\n",
    "TOEFL_label.grid(row = 4, column = 0, columnspan = 2)\n",
    " \n",
    "TOEFL_entry = Entry(master,width = 25,font = ButtonsFont,bg = Active)\n",
    "TOEFL_entry.grid(row = 4, column = 3, columnspan = 3)\n",
    "\n",
    "twelth_label = Label(master, text = \" 12th Percentage\", font = ButtonsFont, bg = bgcolor, fg = fgcolor)\n",
    "twelth_label.grid(row = 5, column = 0, columnspan = 2)\n",
    " \n",
    "twelth_entry = Entry(master,width = 25,font = ButtonsFont,bg = Active)\n",
    "twelth_entry.grid(row = 5, column = 3, columnspan = 3)\n",
    "\n",
    "tenth_label = Label(master, text = \" 10th Percentage\", font = ButtonsFont, bg = bgcolor, fg = fgcolor)\n",
    "tenth_label.grid(row = 6, column = 0, columnspan = 2)\n",
    " \n",
    "tenth_entry = Entry(master,width = 25,font = ButtonsFont,bg = Active)\n",
    "tenth_entry.grid(row = 6, column = 3, columnspan = 3)\n",
    "\n",
    "research_label = Label(master, text = \" Reasearch paper ?\", font = ButtonsFont, bg = bgcolor, fg = fgcolor)\n",
    "research_label.grid(row = 7, column = 0, columnspan = 2)\n",
    " \n",
    "research_entry = Entry(master,width = 25,font = ButtonsFont,bg = Active)\n",
    "research_entry.grid(row = 7, column = 3, columnspan = 3)\n",
    "\n",
    "pred = Label(master, text = \"Predicted college\", font = ButtonsFont, bg = bgcolor, fg = fgcolor)\n",
    "pred.grid(row = 8, column = 2)\n",
    "\n",
    "submit = Button(master,text= \"Predict\",width = 6 , command=None ,font = ButtonsFont)\n",
    "submit.grid(row = 9 , column = 2)\n",
    "\n",
    "\n",
    "master.mainloop()\n"
   ]
  },
  {
   "cell_type": "code",
   "execution_count": null,
   "metadata": {},
   "outputs": [],
   "source": []
  },
  {
   "cell_type": "code",
   "execution_count": null,
   "metadata": {},
   "outputs": [],
   "source": []
  },
  {
   "cell_type": "code",
   "execution_count": null,
   "metadata": {},
   "outputs": [],
   "source": []
  }
 ],
 "metadata": {
  "kernelspec": {
   "display_name": "Python 3",
   "language": "python",
   "name": "python3"
  },
  "language_info": {
   "codemirror_mode": {
    "name": "ipython",
    "version": 3
   },
   "file_extension": ".py",
   "mimetype": "text/x-python",
   "name": "python",
   "nbconvert_exporter": "python",
   "pygments_lexer": "ipython3",
   "version": "3.7.4"
  }
 },
 "nbformat": 4,
 "nbformat_minor": 2
}
