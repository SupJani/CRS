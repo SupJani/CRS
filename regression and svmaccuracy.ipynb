{
 "cells": [
  {
   "cell_type": "code",
   "execution_count": 1,
   "metadata": {},
   "outputs": [],
   "source": [
    "# importing libraries\n",
    "import pandas as pd\n",
    "import numpy as np\n"
   ]
  },
  {
   "cell_type": "code",
   "execution_count": 2,
   "metadata": {},
   "outputs": [],
   "source": [
    "# reading files\n",
    "\n",
    "data = pd.read_csv('Admission_predict.csv', encoding = 'latin-1')\n",
    "#u = pd.read_csv('Admission_predict.csv', encoding = 'latin-1')"
   ]
  },
  {
   "cell_type": "code",
   "execution_count": 3,
   "metadata": {},
   "outputs": [
    {
     "data": {
      "text/plain": [
       "Index(['Serial No.', 'GREScore', 'TOEFLScore', 'University Rating', 'SOP',\n",
       "       'LOR ', 'CGPA', 'Research', 'Admit '],\n",
       "      dtype='object')"
      ]
     },
     "execution_count": 3,
     "metadata": {},
     "output_type": "execute_result"
    }
   ],
   "source": [
    "data.columns"
   ]
  },
  {
   "cell_type": "code",
   "execution_count": 4,
   "metadata": {},
   "outputs": [
    {
     "data": {
      "text/html": [
       "<div>\n",
       "<style scoped>\n",
       "    .dataframe tbody tr th:only-of-type {\n",
       "        vertical-align: middle;\n",
       "    }\n",
       "\n",
       "    .dataframe tbody tr th {\n",
       "        vertical-align: top;\n",
       "    }\n",
       "\n",
       "    .dataframe thead th {\n",
       "        text-align: right;\n",
       "    }\n",
       "</style>\n",
       "<table border=\"1\" class=\"dataframe\">\n",
       "  <thead>\n",
       "    <tr style=\"text-align: right;\">\n",
       "      <th></th>\n",
       "      <th>Serial No.</th>\n",
       "      <th>GREScore</th>\n",
       "      <th>TOEFLScore</th>\n",
       "      <th>University Rating</th>\n",
       "      <th>SOP</th>\n",
       "      <th>LOR</th>\n",
       "      <th>CGPA</th>\n",
       "      <th>Research</th>\n",
       "      <th>Admit</th>\n",
       "    </tr>\n",
       "  </thead>\n",
       "  <tbody>\n",
       "    <tr>\n",
       "      <th>0</th>\n",
       "      <td>1</td>\n",
       "      <td>337</td>\n",
       "      <td>118</td>\n",
       "      <td>4</td>\n",
       "      <td>4.5</td>\n",
       "      <td>4.5</td>\n",
       "      <td>9.65</td>\n",
       "      <td>1</td>\n",
       "      <td>0.92</td>\n",
       "    </tr>\n",
       "    <tr>\n",
       "      <th>1</th>\n",
       "      <td>2</td>\n",
       "      <td>324</td>\n",
       "      <td>107</td>\n",
       "      <td>4</td>\n",
       "      <td>4.0</td>\n",
       "      <td>4.5</td>\n",
       "      <td>8.87</td>\n",
       "      <td>1</td>\n",
       "      <td>0.76</td>\n",
       "    </tr>\n",
       "    <tr>\n",
       "      <th>2</th>\n",
       "      <td>3</td>\n",
       "      <td>316</td>\n",
       "      <td>104</td>\n",
       "      <td>3</td>\n",
       "      <td>3.0</td>\n",
       "      <td>3.5</td>\n",
       "      <td>8.00</td>\n",
       "      <td>1</td>\n",
       "      <td>0.72</td>\n",
       "    </tr>\n",
       "    <tr>\n",
       "      <th>3</th>\n",
       "      <td>4</td>\n",
       "      <td>322</td>\n",
       "      <td>110</td>\n",
       "      <td>3</td>\n",
       "      <td>3.5</td>\n",
       "      <td>2.5</td>\n",
       "      <td>8.67</td>\n",
       "      <td>1</td>\n",
       "      <td>0.80</td>\n",
       "    </tr>\n",
       "    <tr>\n",
       "      <th>4</th>\n",
       "      <td>5</td>\n",
       "      <td>314</td>\n",
       "      <td>103</td>\n",
       "      <td>2</td>\n",
       "      <td>2.0</td>\n",
       "      <td>3.0</td>\n",
       "      <td>8.21</td>\n",
       "      <td>0</td>\n",
       "      <td>0.65</td>\n",
       "    </tr>\n",
       "    <tr>\n",
       "      <th>5</th>\n",
       "      <td>7</td>\n",
       "      <td>321</td>\n",
       "      <td>109</td>\n",
       "      <td>3</td>\n",
       "      <td>3.0</td>\n",
       "      <td>4.0</td>\n",
       "      <td>8.20</td>\n",
       "      <td>1</td>\n",
       "      <td>0.75</td>\n",
       "    </tr>\n",
       "    <tr>\n",
       "      <th>6</th>\n",
       "      <td>8</td>\n",
       "      <td>308</td>\n",
       "      <td>101</td>\n",
       "      <td>2</td>\n",
       "      <td>3.0</td>\n",
       "      <td>4.0</td>\n",
       "      <td>7.90</td>\n",
       "      <td>0</td>\n",
       "      <td>0.68</td>\n",
       "    </tr>\n",
       "    <tr>\n",
       "      <th>7</th>\n",
       "      <td>9</td>\n",
       "      <td>302</td>\n",
       "      <td>102</td>\n",
       "      <td>1</td>\n",
       "      <td>2.0</td>\n",
       "      <td>1.5</td>\n",
       "      <td>8.00</td>\n",
       "      <td>0</td>\n",
       "      <td>0.50</td>\n",
       "    </tr>\n",
       "    <tr>\n",
       "      <th>8</th>\n",
       "      <td>10</td>\n",
       "      <td>323</td>\n",
       "      <td>108</td>\n",
       "      <td>3</td>\n",
       "      <td>3.5</td>\n",
       "      <td>3.0</td>\n",
       "      <td>8.60</td>\n",
       "      <td>0</td>\n",
       "      <td>0.45</td>\n",
       "    </tr>\n",
       "    <tr>\n",
       "      <th>9</th>\n",
       "      <td>11</td>\n",
       "      <td>325</td>\n",
       "      <td>106</td>\n",
       "      <td>3</td>\n",
       "      <td>3.5</td>\n",
       "      <td>4.0</td>\n",
       "      <td>8.40</td>\n",
       "      <td>1</td>\n",
       "      <td>0.52</td>\n",
       "    </tr>\n",
       "  </tbody>\n",
       "</table>\n",
       "</div>"
      ],
      "text/plain": [
       "   Serial No.  GREScore  TOEFLScore  University Rating  SOP  LOR   CGPA  \\\n",
       "0           1       337         118                  4  4.5   4.5  9.65   \n",
       "1           2       324         107                  4  4.0   4.5  8.87   \n",
       "2           3       316         104                  3  3.0   3.5  8.00   \n",
       "3           4       322         110                  3  3.5   2.5  8.67   \n",
       "4           5       314         103                  2  2.0   3.0  8.21   \n",
       "5           7       321         109                  3  3.0   4.0  8.20   \n",
       "6           8       308         101                  2  3.0   4.0  7.90   \n",
       "7           9       302         102                  1  2.0   1.5  8.00   \n",
       "8          10       323         108                  3  3.5   3.0  8.60   \n",
       "9          11       325         106                  3  3.5   4.0  8.40   \n",
       "\n",
       "   Research  Admit   \n",
       "0         1    0.92  \n",
       "1         1    0.76  \n",
       "2         1    0.72  \n",
       "3         1    0.80  \n",
       "4         0    0.65  \n",
       "5         1    0.75  \n",
       "6         0    0.68  \n",
       "7         0    0.50  \n",
       "8         0    0.45  \n",
       "9         1    0.52  "
      ]
     },
     "execution_count": 4,
     "metadata": {},
     "output_type": "execute_result"
    }
   ],
   "source": [
    "data.head(10)"
   ]
  },
  {
   "cell_type": "code",
   "execution_count": 5,
   "metadata": {},
   "outputs": [
    {
     "data": {
      "text/plain": [
       "'     Serial No.  GREScore  TOEFLScore  University Rating  SOP  LOR   CGPA  \\\\\\n0             1       337         118                  4  4.5   4.5  9.65   \\n1             2       324         107                  4  4.0   4.5  8.87   \\n2             3       316         104                  3  3.0   3.5  8.00   \\n3             4       322         110                  3  3.5   2.5  8.67   \\n4             5       314         103                  2  2.0   3.0  8.21   \\n5             7       321         109                  3  3.0   4.0  8.20   \\n6             8       308         101                  2  3.0   4.0  7.90   \\n7             9       302         102                  1  2.0   1.5  8.00   \\n8            10       323         108                  3  3.5   3.0  8.60   \\n9            11       325         106                  3  3.5   4.0  8.40   \\n10           12       327         111                  4  4.0   4.5  9.00   \\n11           13       328         112                  4  4.0   4.5  9.10   \\n12           14       307         109                  3  4.0   3.0  8.00   \\n13           15       311         104                  3  3.5   2.0  8.20   \\n14           16       314         105                  3  3.5   2.5  8.30   \\n15           17       317         107                  3  4.0   3.0  8.70   \\n16           18       319         106                  3  4.0   3.0  8.00   \\n17           19       318         110                  3  4.0   3.0  8.80   \\n18           20       303         102                  3  3.5   3.0  8.50   \\n19           21       312         107                  3  3.0   2.0  7.90   \\n20           22       325         114                  4  3.0   2.0  8.40   \\n21           23       328         116                  5  5.0   5.0  9.50   \\n22           24       334         119                  5  5.0   4.5  9.70   \\n23           25       336         119                  5  4.0   3.5  9.80   \\n24           26       340         120                  5  4.5   4.5  9.60   \\n25           27       322         109                  5  4.5   3.5  8.80   \\n26           28       298          98                  2  1.5   2.5  7.50   \\n27           29       295          93                  1  2.0   2.0  7.20   \\n28           30       310          99                  2  1.5   2.0  7.30   \\n29           31       300          97                  2  3.0   3.0  8.10   \\n..          ...       ...         ...                ...  ...   ...   ...   \\n369         371       310         103                  2  2.5   2.5  8.24   \\n370         372       324         110                  3  3.5   3.0  9.22   \\n371         373       336         119                  4  4.5   4.0  9.62   \\n372         374       321         109                  3  3.0   3.0  8.54   \\n373         375       315         105                  2  2.0   2.5  7.65   \\n374         376       304         101                  2  2.0   2.5  7.66   \\n375         377       297          96                  2  2.5   2.0  7.43   \\n376         378       290         100                  1  1.5   2.0  7.56   \\n377         379       303          98                  1  2.0   2.5  7.65   \\n378         380       311          99                  1  2.5   3.0  8.43   \\n379         381       322         104                  3  3.5   4.0  8.84   \\n380         382       319         105                  3  3.0   3.5  8.67   \\n381         383       324         110                  4  4.5   4.0  9.15   \\n382         384       300         100                  3  3.0   3.5  8.26   \\n383         385       340         113                  4  5.0   5.0  9.74   \\n384         386       335         117                  5  5.0   5.0  9.82   \\n385         387       302         101                  2  2.5   3.5  7.96   \\n386         388       307         105                  2  2.0   3.5  8.10   \\n387         389       296          97                  2  1.5   2.0  7.80   \\n388         390       320         108                  3  3.5   4.0  8.44   \\n389         391       314         102                  2  2.0   2.5  8.24   \\n390         392       318         106                  3  2.0   3.0  8.65   \\n391         393       326         112                  4  4.0   3.5  9.12   \\n392         394       317         104                  2  3.0   3.0  8.76   \\n393         395       329         111                  4  4.5   4.0  9.23   \\n394         396       324         110                  3  3.5   3.5  9.04   \\n395         397       325         107                  3  3.0   3.5  9.11   \\n396         398       330         116                  4  5.0   4.5  9.45   \\n397         399       312         103                  3  3.5   4.0  8.78   \\n398         400       333         117                  4  5.0   4.0  9.66   \\n\\n     Research  Admit   \\n0           1    0.92  \\n1           1    0.76  \\n2           1    0.72  \\n3           1    0.80  \\n4           0    0.65  \\n5           1    0.75  \\n6           0    0.68  \\n7           0    0.50  \\n8           0    0.45  \\n9           1    0.52  \\n10          1    0.84  \\n11          1    0.78  \\n12          1    0.62  \\n13          1    0.61  \\n14          0    0.54  \\n15          0    0.66  \\n16          1    0.65  \\n17          0    0.63  \\n18          0    0.62  \\n19          1    0.64  \\n20          0    0.70  \\n21          1    0.94  \\n22          1    0.95  \\n23          1    0.97  \\n24          1    0.94  \\n25          0    0.76  \\n26          1    0.44  \\n27          0    0.46  \\n28          0    0.54  \\n29          1    0.65  \\n..        ...     ...  \\n369         0    0.72  \\n370         1    0.89  \\n371         1    0.95  \\n372         1    0.79  \\n373         0    0.39  \\n374         0    0.38  \\n375         0    0.34  \\n376         0    0.47  \\n377         0    0.56  \\n378         1    0.71  \\n379         1    0.78  \\n380         1    0.73  \\n381         1    0.82  \\n382         0    0.62  \\n383         1    0.96  \\n384         1    0.96  \\n385         0    0.46  \\n386         0    0.53  \\n387         0    0.49  \\n388         1    0.76  \\n389         0    0.64  \\n390         0    0.71  \\n391         1    0.84  \\n392         0    0.77  \\n393         1    0.89  \\n394         1    0.82  \\n395         1    0.84  \\n396         1    0.91  \\n397         0    0.67  \\n398         1    0.95  \\n\\n[399 rows x 9 columns]'"
      ]
     },
     "execution_count": 5,
     "metadata": {},
     "output_type": "execute_result"
    }
   ],
   "source": [
    "str(data)"
   ]
  },
  {
   "cell_type": "code",
   "execution_count": 6,
   "metadata": {},
   "outputs": [],
   "source": [
    "data=data.rename(columns={'Admit ':'Admit'})"
   ]
  },
  {
   "cell_type": "code",
   "execution_count": 7,
   "metadata": {},
   "outputs": [],
   "source": [
    "data=data.fillna(-999)"
   ]
  },
  {
   "cell_type": "code",
   "execution_count": 8,
   "metadata": {},
   "outputs": [],
   "source": [
    "# Checking the data using head function \n",
    "#training dataset by splitting\n",
    "str(data)\n",
    "data.head()\n",
    "from sklearn.model_selection import train_test_split\n",
    "#x=data.iloc[:,:1].values\n",
    "#y=data.iloc[:,:-1].values\n",
    "y=data.Admit\n",
    "\n",
    "x=data.drop(['Admit','Serial No.', 'Research'],axis=1)\n",
    "# x=data.drop('Serial No.',axis=1)\n",
    "# x=data.drop('Research',axis=1)\n",
    "x_train,x_test,y_train,y_test=train_test_split(x,y,test_size=0.4)\n",
    "\n",
    "\n"
   ]
  },
  {
   "cell_type": "code",
   "execution_count": 9,
   "metadata": {},
   "outputs": [
    {
     "data": {
      "text/plain": [
       "(239, 6)"
      ]
     },
     "execution_count": 9,
     "metadata": {},
     "output_type": "execute_result"
    }
   ],
   "source": [
    "x_train.shape"
   ]
  },
  {
   "cell_type": "code",
   "execution_count": 10,
   "metadata": {},
   "outputs": [
    {
     "data": {
      "text/plain": [
       "(160, 6)"
      ]
     },
     "execution_count": 10,
     "metadata": {},
     "output_type": "execute_result"
    }
   ],
   "source": [
    "x_test.shape\n"
   ]
  },
  {
   "cell_type": "code",
   "execution_count": 11,
   "metadata": {},
   "outputs": [
    {
     "data": {
      "text/html": [
       "<div>\n",
       "<style scoped>\n",
       "    .dataframe tbody tr th:only-of-type {\n",
       "        vertical-align: middle;\n",
       "    }\n",
       "\n",
       "    .dataframe tbody tr th {\n",
       "        vertical-align: top;\n",
       "    }\n",
       "\n",
       "    .dataframe thead th {\n",
       "        text-align: right;\n",
       "    }\n",
       "</style>\n",
       "<table border=\"1\" class=\"dataframe\">\n",
       "  <thead>\n",
       "    <tr style=\"text-align: right;\">\n",
       "      <th></th>\n",
       "      <th>GREScore</th>\n",
       "      <th>TOEFLScore</th>\n",
       "      <th>University Rating</th>\n",
       "      <th>SOP</th>\n",
       "      <th>LOR</th>\n",
       "      <th>CGPA</th>\n",
       "    </tr>\n",
       "  </thead>\n",
       "  <tbody>\n",
       "    <tr>\n",
       "      <th>56</th>\n",
       "      <td>298</td>\n",
       "      <td>99</td>\n",
       "      <td>2</td>\n",
       "      <td>4.0</td>\n",
       "      <td>2.0</td>\n",
       "      <td>7.60</td>\n",
       "    </tr>\n",
       "    <tr>\n",
       "      <th>370</th>\n",
       "      <td>324</td>\n",
       "      <td>110</td>\n",
       "      <td>3</td>\n",
       "      <td>3.5</td>\n",
       "      <td>3.0</td>\n",
       "      <td>9.22</td>\n",
       "    </tr>\n",
       "    <tr>\n",
       "      <th>74</th>\n",
       "      <td>329</td>\n",
       "      <td>114</td>\n",
       "      <td>2</td>\n",
       "      <td>2.0</td>\n",
       "      <td>4.0</td>\n",
       "      <td>8.56</td>\n",
       "    </tr>\n",
       "    <tr>\n",
       "      <th>21</th>\n",
       "      <td>328</td>\n",
       "      <td>116</td>\n",
       "      <td>5</td>\n",
       "      <td>5.0</td>\n",
       "      <td>5.0</td>\n",
       "      <td>9.50</td>\n",
       "    </tr>\n",
       "    <tr>\n",
       "      <th>155</th>\n",
       "      <td>315</td>\n",
       "      <td>105</td>\n",
       "      <td>3</td>\n",
       "      <td>2.0</td>\n",
       "      <td>2.5</td>\n",
       "      <td>8.34</td>\n",
       "    </tr>\n",
       "  </tbody>\n",
       "</table>\n",
       "</div>"
      ],
      "text/plain": [
       "     GREScore  TOEFLScore  University Rating  SOP  LOR   CGPA\n",
       "56        298          99                  2  4.0   2.0  7.60\n",
       "370       324         110                  3  3.5   3.0  9.22\n",
       "74        329         114                  2  2.0   4.0  8.56\n",
       "21        328         116                  5  5.0   5.0  9.50\n",
       "155       315         105                  3  2.0   2.5  8.34"
      ]
     },
     "execution_count": 11,
     "metadata": {},
     "output_type": "execute_result"
    }
   ],
   "source": [
    "x_test.head()"
   ]
  },
  {
   "cell_type": "code",
   "execution_count": 12,
   "metadata": {},
   "outputs": [
    {
     "data": {
      "text/plain": [
       "(160,)"
      ]
     },
     "execution_count": 12,
     "metadata": {},
     "output_type": "execute_result"
    }
   ],
   "source": [
    "y_test.shape"
   ]
  },
  {
   "cell_type": "code",
   "execution_count": 13,
   "metadata": {},
   "outputs": [
    {
     "data": {
      "text/plain": [
       "56     0.46\n",
       "370    0.89\n",
       "74     0.72\n",
       "21     0.94\n",
       "155    0.70\n",
       "Name: Admit, dtype: float64"
      ]
     },
     "execution_count": 13,
     "metadata": {},
     "output_type": "execute_result"
    }
   ],
   "source": [
    "y_test.head()"
   ]
  },
  {
   "cell_type": "code",
   "execution_count": 14,
   "metadata": {},
   "outputs": [
    {
     "data": {
      "text/plain": [
       "173    0.87\n",
       "381    0.82\n",
       "377    0.56\n",
       "220    0.75\n",
       "237    0.70\n",
       "Name: Admit, dtype: float64"
      ]
     },
     "execution_count": 14,
     "metadata": {},
     "output_type": "execute_result"
    }
   ],
   "source": [
    "y_train.head()"
   ]
  },
  {
   "cell_type": "code",
   "execution_count": 15,
   "metadata": {},
   "outputs": [],
   "source": [
    "##########################################EXECUTED CODE\n",
    "from sklearn.linear_model import LinearRegression as lm\n",
    "model=lm().fit(x_train,y_train)\n",
    "predictions=model.predict(x_test)\n",
    "import matplotlib.pyplot as plt\n",
    "plt.scatter(y_test,predictions)\n",
    "plt.savefig('Linear.png')\n"
   ]
  },
  {
   "cell_type": "code",
   "execution_count": 16,
   "metadata": {},
   "outputs": [
    {
     "data": {
      "text/plain": [
       "['regression.jbl']"
      ]
     },
     "execution_count": 16,
     "metadata": {},
     "output_type": "execute_result"
    }
   ],
   "source": [
    "import joblib\n",
    "joblib.dump(model,'regression.jbl')\n",
    "#dump(scaler,'scaler.jbl')"
   ]
  },
  {
   "cell_type": "code",
   "execution_count": 17,
   "metadata": {},
   "outputs": [],
   "source": [
    "# getting the description of rating\n",
    "#user_rating.describe()"
   ]
  },
  {
   "cell_type": "code",
   "execution_count": 18,
   "metadata": {},
   "outputs": [],
   "source": [
    "# sorting based on no of ratings that each university got\n",
    "#user_rating.sort_values('CGPA ', ascending=False).head()"
   ]
  },
  {
   "cell_type": "code",
   "execution_count": 19,
   "metadata": {},
   "outputs": [],
   "source": [
    "# Preparing data table for analysis\n",
    "#user_rating= pd.pivot_table(data=data,values='GRE Score', index='CGPA',columns='Admit')\n",
    "#user_rating.head()"
   ]
  },
  {
   "cell_type": "code",
   "execution_count": 20,
   "metadata": {},
   "outputs": [],
   "source": [
    "#correlation_matrix  = user_rating.corr(method='pearson')\n",
    "#correlation_matrix.head(5)"
   ]
  },
  {
   "cell_type": "code",
   "execution_count": 21,
   "metadata": {},
   "outputs": [],
   "source": [
    "# getting the cgpa who has admit prediction of 0.9 this particular univ and making sure rating is not zero\n",
    "#OneManOut_rating = user_rating[0.9]\n",
    "#OneManOut_rating[OneManOut_rating>0]"
   ]
  },
  {
   "cell_type": "code",
   "execution_count": 22,
   "metadata": {},
   "outputs": [],
   "source": [
    "\n",
    "#training the dataset by using linear regression method\n",
    "#from sklearn.linear_model import LinearRegression as lm\n",
    "#from sklearn.metrics import accuracy_score\n",
    "#model=lm().fit(x_train,y_train)\n",
    "\n",
    "\n",
    "#print(model.score(predictions,y_test))\n",
    "#%matplotlib inline\n",
    "#import matplotlib.pyplot as plt\n",
    "#plt.scatter(y_test,predictions)\n",
    "\n",
    "#plt.plot(x_test,y_test,color='red')\n"
   ]
  },
  {
   "cell_type": "code",
   "execution_count": 23,
   "metadata": {},
   "outputs": [
    {
     "name": "stdout",
     "output_type": "stream",
     "text": [
      "accuracy of linear regression is 0.8102564046320168\n",
      "[0.51602141 0.80582118 0.77630236 0.92118377 0.66680164 0.516917\n",
      " 0.60645083 0.61697309 0.79392807 0.72653794 0.77402336 0.63989146\n",
      " 0.73850691 0.48647083 0.62885731 0.83288429 0.93611555 0.78333298\n",
      " 0.56293078 0.69996495 0.71699989 0.63905925 0.72254593 0.87861557\n",
      " 0.9035033  0.56177902 0.77361551 0.71552321 0.72247219 0.60204691\n",
      " 0.80144089 0.95902433 0.78210366 0.82014657 0.91059087 0.63060403\n",
      " 0.6673126  0.69741339 0.51557895 0.51043057 0.74009605 0.98263836\n",
      " 0.51298962 0.68223112 0.87474697 0.77968841 0.84168309 0.84984326\n",
      " 0.78497413 0.65574917 0.61483005 0.6414723  0.68805312 0.60169616\n",
      " 0.52104718 0.46999556 0.76253722 0.44284619 0.8466408  0.4460936\n",
      " 0.71433659 0.80321802 0.71119567 0.7198555  0.70340883 0.51286168\n",
      " 0.63572481 0.84523654 0.93421959 0.53614404 0.68348488 0.85285879\n",
      " 0.69994106 0.79338546 0.77168637 0.81656368 0.63940914 0.70844237\n",
      " 0.63179772 0.67811934 0.71567093 0.9759031  0.85315176 0.88200508\n",
      " 0.80283396 0.96052292 0.80977016 0.94707363 0.69529893 0.55090412\n",
      " 0.65498926 0.62279855 0.57277814 0.71491111 0.66762191 0.75083187\n",
      " 0.86743135 0.82548331 0.73960206 0.77064096 0.80556283 0.66837111\n",
      " 0.92223919 0.79070413 0.74782814 0.53847387 0.61337817 0.85436765\n",
      " 0.73485161 0.55134153 0.65052768 0.73217604 0.88454792 0.63766632\n",
      " 0.95063723 0.83612267 0.67239969 0.7349121  0.77164789 0.9267957\n",
      " 0.7295891  0.72653577 0.55107651 0.93102978 0.67512454 0.56131233\n",
      " 0.63404974 0.63450141 0.93569761 0.52105764 0.58762744 0.7167809\n",
      " 0.62559355 0.71013293 0.58019884 0.73647293 0.63238262 0.78041757\n",
      " 0.85198286 0.82886247 0.65708216 0.62766936 0.80006808 0.74293803\n",
      " 0.77690794 0.54312336 0.94842503 0.83658811 0.91606317 0.78346336\n",
      " 0.45505266 0.68406075 0.89506133 0.58453647 0.64962021 0.67647782\n",
      " 0.64706262 0.60837679 0.74043408 0.87502802]\n"
     ]
    }
   ],
   "source": [
    "#printing metrics of linear regression like coeficient\n",
    "\n",
    "from sklearn.metrics import mean_squared_error\n",
    "from sklearn.metrics import accuracy_score\n",
    "\n",
    "predictions=model.predict(x_test)\n",
    "\n",
    "\n",
    "#printing accuracy by linear regresssion\n",
    "\n",
    "print('accuracy of linear regression is',model.score(x_test,y_test))\n",
    "#mean_squared_error(predictions,y_test)\n",
    "predictions.shape\n",
    "print(predictions)\n",
    "#print(accuracy_score(y_test,predictions))"
   ]
  },
  {
   "cell_type": "code",
   "execution_count": 24,
   "metadata": {},
   "outputs": [
    {
     "name": "stdout",
     "output_type": "stream",
     "text": [
      "[0.00283678 0.00234026 0.00707989 0.00182625 0.02257555 0.09972735]\n"
     ]
    }
   ],
   "source": [
    "print(model.coef_)"
   ]
  },
  {
   "cell_type": "code",
   "execution_count": 25,
   "metadata": {},
   "outputs": [
    {
     "name": "stdout",
     "output_type": "stream",
     "text": [
      "-1.385568604864911\n"
     ]
    }
   ],
   "source": [
    "print(model.intercept_)"
   ]
  },
  {
   "cell_type": "code",
   "execution_count": 26,
   "metadata": {},
   "outputs": [
    {
     "data": {
      "image/png": "[encoded data removed]",
      "text/plain": [
       "<Figure size 432x288 with 1 Axes>"
      ]
     },
     "metadata": {
      "needs_background": "light"
     },
     "output_type": "display_data"
    },
    {
     "data": {
      "text/plain": [
       "<Figure size 432x288 with 0 Axes>"
      ]
     },
     "metadata": {},
     "output_type": "display_data"
    }
   ],
   "source": [
    "plt.xlabel('GRE Score')\n",
    "plt.ylabel('Admit')\n",
    "plt.plot(range(60), range(60))\n",
    "plt.show()\n",
    "\n",
    "plt.savefig('abc.jpg')\n",
    "\n",
    "\n"
   ]
  },
  {
   "cell_type": "code",
   "execution_count": 27,
   "metadata": {},
   "outputs": [
    {
     "data": {
      "text/html": [
       "<div>\n",
       "<style scoped>\n",
       "    .dataframe tbody tr th:only-of-type {\n",
       "        vertical-align: middle;\n",
       "    }\n",
       "\n",
       "    .dataframe tbody tr th {\n",
       "        vertical-align: top;\n",
       "    }\n",
       "\n",
       "    .dataframe thead th {\n",
       "        text-align: right;\n",
       "    }\n",
       "</style>\n",
       "<table border=\"1\" class=\"dataframe\">\n",
       "  <thead>\n",
       "    <tr style=\"text-align: right;\">\n",
       "      <th></th>\n",
       "      <th>Admit</th>\n",
       "    </tr>\n",
       "  </thead>\n",
       "  <tbody>\n",
       "    <tr>\n",
       "      <th>0.516021</th>\n",
       "      <td>NaN</td>\n",
       "    </tr>\n",
       "    <tr>\n",
       "      <th>0.805821</th>\n",
       "      <td>NaN</td>\n",
       "    </tr>\n",
       "    <tr>\n",
       "      <th>0.776302</th>\n",
       "      <td>NaN</td>\n",
       "    </tr>\n",
       "    <tr>\n",
       "      <th>0.921184</th>\n",
       "      <td>NaN</td>\n",
       "    </tr>\n",
       "    <tr>\n",
       "      <th>0.666802</th>\n",
       "      <td>NaN</td>\n",
       "    </tr>\n",
       "    <tr>\n",
       "      <th>0.516917</th>\n",
       "      <td>NaN</td>\n",
       "    </tr>\n",
       "    <tr>\n",
       "      <th>0.606451</th>\n",
       "      <td>NaN</td>\n",
       "    </tr>\n",
       "    <tr>\n",
       "      <th>0.616973</th>\n",
       "      <td>NaN</td>\n",
       "    </tr>\n",
       "    <tr>\n",
       "      <th>0.793928</th>\n",
       "      <td>NaN</td>\n",
       "    </tr>\n",
       "    <tr>\n",
       "      <th>0.726538</th>\n",
       "      <td>NaN</td>\n",
       "    </tr>\n",
       "  </tbody>\n",
       "</table>\n",
       "</div>"
      ],
      "text/plain": [
       "          Admit\n",
       "0.516021    NaN\n",
       "0.805821    NaN\n",
       "0.776302    NaN\n",
       "0.921184    NaN\n",
       "0.666802    NaN\n",
       "0.516917    NaN\n",
       "0.606451    NaN\n",
       "0.616973    NaN\n",
       "0.793928    NaN\n",
       "0.726538    NaN"
      ]
     },
     "execution_count": 27,
     "metadata": {},
     "output_type": "execute_result"
    }
   ],
   "source": [
    "\n",
    "#predictions by using linear regression\n",
    "df=pd.DataFrame(y_test,predictions) \n",
    "\n",
    "df.head(10)\n"
   ]
  },
  {
   "cell_type": "code",
   "execution_count": 28,
   "metadata": {},
   "outputs": [],
   "source": [
    "#print(model.accuracy_score(predictions))\n",
    "#print(model.accuracy_score)"
   ]
  },
  {
   "cell_type": "code",
   "execution_count": 29,
   "metadata": {},
   "outputs": [],
   "source": [
    "#implementation by Support vector machine"
   ]
  },
  {
   "cell_type": "code",
   "execution_count": 30,
   "metadata": {},
   "outputs": [],
   "source": [
    "import pandas as pd"
   ]
  },
  {
   "cell_type": "code",
   "execution_count": 31,
   "metadata": {},
   "outputs": [],
   "source": [
    "data1 = pd.read_csv('Admission_predict_Ver1.1.csv', encoding = 'latin-1')\n",
    "#u = pd.read_csv('Admission_predict.csv', encoding = 'latin-1')"
   ]
  },
  {
   "cell_type": "code",
   "execution_count": 32,
   "metadata": {},
   "outputs": [],
   "source": [
    "#X.head"
   ]
  },
  {
   "cell_type": "code",
   "execution_count": 33,
   "metadata": {},
   "outputs": [],
   "source": [
    "#from sklearn.model_selection import train_test_split\n",
    "#x=data.iloc[:,:1].values\n",
    "#y=data.iloc[:,:-1].values\n",
    "y=data1.Admit\n",
    "X=data1.drop('Admit',axis=1)\n",
    "#x_train,x_test,y_train,y_test=train_test_split(x,y,test_size=0.2)\n",
    "\n",
    "#y.head\n",
    "from sklearn.model_selection import train_test_split\n",
    "X_train, X_test, y_train, y_test = train_test_split(X, y, test_size = 0.20,random_state=12)\n"
   ]
  },
  {
   "cell_type": "code",
   "execution_count": 34,
   "metadata": {},
   "outputs": [
    {
     "data": {
      "text/html": [
       "<div>\n",
       "<style scoped>\n",
       "    .dataframe tbody tr th:only-of-type {\n",
       "        vertical-align: middle;\n",
       "    }\n",
       "\n",
       "    .dataframe tbody tr th {\n",
       "        vertical-align: top;\n",
       "    }\n",
       "\n",
       "    .dataframe thead th {\n",
       "        text-align: right;\n",
       "    }\n",
       "</style>\n",
       "<table border=\"1\" class=\"dataframe\">\n",
       "  <thead>\n",
       "    <tr style=\"text-align: right;\">\n",
       "      <th></th>\n",
       "      <th>Serial No.</th>\n",
       "      <th>GRE Score</th>\n",
       "      <th>University Rating</th>\n",
       "      <th>TOEFL Score</th>\n",
       "      <th>SOP</th>\n",
       "      <th>LOR</th>\n",
       "      <th>CGPA</th>\n",
       "    </tr>\n",
       "  </thead>\n",
       "  <tbody>\n",
       "    <tr>\n",
       "      <th>475</th>\n",
       "      <td>476</td>\n",
       "      <td>300</td>\n",
       "      <td>3</td>\n",
       "      <td>101</td>\n",
       "      <td>3.5</td>\n",
       "      <td>2.5</td>\n",
       "      <td>7.88</td>\n",
       "    </tr>\n",
       "    <tr>\n",
       "      <th>385</th>\n",
       "      <td>386</td>\n",
       "      <td>335</td>\n",
       "      <td>5</td>\n",
       "      <td>117</td>\n",
       "      <td>5.0</td>\n",
       "      <td>5.0</td>\n",
       "      <td>9.82</td>\n",
       "    </tr>\n",
       "    <tr>\n",
       "      <th>167</th>\n",
       "      <td>168</td>\n",
       "      <td>313</td>\n",
       "      <td>3</td>\n",
       "      <td>102</td>\n",
       "      <td>2.0</td>\n",
       "      <td>3.0</td>\n",
       "      <td>8.27</td>\n",
       "    </tr>\n",
       "    <tr>\n",
       "      <th>40</th>\n",
       "      <td>41</td>\n",
       "      <td>308</td>\n",
       "      <td>3</td>\n",
       "      <td>110</td>\n",
       "      <td>3.5</td>\n",
       "      <td>3.0</td>\n",
       "      <td>8.00</td>\n",
       "    </tr>\n",
       "    <tr>\n",
       "      <th>350</th>\n",
       "      <td>351</td>\n",
       "      <td>318</td>\n",
       "      <td>3</td>\n",
       "      <td>107</td>\n",
       "      <td>3.0</td>\n",
       "      <td>3.5</td>\n",
       "      <td>8.27</td>\n",
       "    </tr>\n",
       "    <tr>\n",
       "      <th>42</th>\n",
       "      <td>43</td>\n",
       "      <td>313</td>\n",
       "      <td>2</td>\n",
       "      <td>107</td>\n",
       "      <td>2.5</td>\n",
       "      <td>2.0</td>\n",
       "      <td>8.50</td>\n",
       "    </tr>\n",
       "    <tr>\n",
       "      <th>250</th>\n",
       "      <td>251</td>\n",
       "      <td>320</td>\n",
       "      <td>3</td>\n",
       "      <td>104</td>\n",
       "      <td>3.0</td>\n",
       "      <td>2.5</td>\n",
       "      <td>8.57</td>\n",
       "    </tr>\n",
       "    <tr>\n",
       "      <th>469</th>\n",
       "      <td>470</td>\n",
       "      <td>326</td>\n",
       "      <td>4</td>\n",
       "      <td>114</td>\n",
       "      <td>4.0</td>\n",
       "      <td>3.5</td>\n",
       "      <td>9.16</td>\n",
       "    </tr>\n",
       "    <tr>\n",
       "      <th>6</th>\n",
       "      <td>7</td>\n",
       "      <td>321</td>\n",
       "      <td>3</td>\n",
       "      <td>109</td>\n",
       "      <td>3.0</td>\n",
       "      <td>4.0</td>\n",
       "      <td>8.20</td>\n",
       "    </tr>\n",
       "    <tr>\n",
       "      <th>159</th>\n",
       "      <td>160</td>\n",
       "      <td>297</td>\n",
       "      <td>1</td>\n",
       "      <td>100</td>\n",
       "      <td>1.5</td>\n",
       "      <td>2.0</td>\n",
       "      <td>7.90</td>\n",
       "    </tr>\n",
       "    <tr>\n",
       "      <th>14</th>\n",
       "      <td>15</td>\n",
       "      <td>311</td>\n",
       "      <td>3</td>\n",
       "      <td>104</td>\n",
       "      <td>3.5</td>\n",
       "      <td>2.0</td>\n",
       "      <td>8.20</td>\n",
       "    </tr>\n",
       "    <tr>\n",
       "      <th>499</th>\n",
       "      <td>500</td>\n",
       "      <td>327</td>\n",
       "      <td>4</td>\n",
       "      <td>113</td>\n",
       "      <td>4.5</td>\n",
       "      <td>4.5</td>\n",
       "      <td>9.04</td>\n",
       "    </tr>\n",
       "    <tr>\n",
       "      <th>207</th>\n",
       "      <td>208</td>\n",
       "      <td>310</td>\n",
       "      <td>3</td>\n",
       "      <td>102</td>\n",
       "      <td>3.5</td>\n",
       "      <td>4.0</td>\n",
       "      <td>8.02</td>\n",
       "    </tr>\n",
       "    <tr>\n",
       "      <th>362</th>\n",
       "      <td>363</td>\n",
       "      <td>338</td>\n",
       "      <td>5</td>\n",
       "      <td>115</td>\n",
       "      <td>4.5</td>\n",
       "      <td>5.0</td>\n",
       "      <td>9.23</td>\n",
       "    </tr>\n",
       "    <tr>\n",
       "      <th>339</th>\n",
       "      <td>340</td>\n",
       "      <td>324</td>\n",
       "      <td>5</td>\n",
       "      <td>107</td>\n",
       "      <td>3.5</td>\n",
       "      <td>4.0</td>\n",
       "      <td>8.66</td>\n",
       "    </tr>\n",
       "    <tr>\n",
       "      <th>266</th>\n",
       "      <td>267</td>\n",
       "      <td>312</td>\n",
       "      <td>2</td>\n",
       "      <td>105</td>\n",
       "      <td>2.0</td>\n",
       "      <td>2.5</td>\n",
       "      <td>8.45</td>\n",
       "    </tr>\n",
       "    <tr>\n",
       "      <th>255</th>\n",
       "      <td>256</td>\n",
       "      <td>307</td>\n",
       "      <td>4</td>\n",
       "      <td>110</td>\n",
       "      <td>4.0</td>\n",
       "      <td>4.5</td>\n",
       "      <td>8.37</td>\n",
       "    </tr>\n",
       "    <tr>\n",
       "      <th>403</th>\n",
       "      <td>404</td>\n",
       "      <td>330</td>\n",
       "      <td>4</td>\n",
       "      <td>116</td>\n",
       "      <td>4.0</td>\n",
       "      <td>3.5</td>\n",
       "      <td>9.23</td>\n",
       "    </tr>\n",
       "    <tr>\n",
       "      <th>206</th>\n",
       "      <td>207</td>\n",
       "      <td>315</td>\n",
       "      <td>2</td>\n",
       "      <td>99</td>\n",
       "      <td>3.5</td>\n",
       "      <td>3.0</td>\n",
       "      <td>7.89</td>\n",
       "    </tr>\n",
       "    <tr>\n",
       "      <th>305</th>\n",
       "      <td>306</td>\n",
       "      <td>321</td>\n",
       "      <td>3</td>\n",
       "      <td>109</td>\n",
       "      <td>3.5</td>\n",
       "      <td>3.5</td>\n",
       "      <td>8.80</td>\n",
       "    </tr>\n",
       "    <tr>\n",
       "      <th>44</th>\n",
       "      <td>45</td>\n",
       "      <td>326</td>\n",
       "      <td>5</td>\n",
       "      <td>113</td>\n",
       "      <td>4.5</td>\n",
       "      <td>4.0</td>\n",
       "      <td>9.40</td>\n",
       "    </tr>\n",
       "    <tr>\n",
       "      <th>361</th>\n",
       "      <td>362</td>\n",
       "      <td>334</td>\n",
       "      <td>4</td>\n",
       "      <td>116</td>\n",
       "      <td>4.0</td>\n",
       "      <td>3.5</td>\n",
       "      <td>9.54</td>\n",
       "    </tr>\n",
       "    <tr>\n",
       "      <th>289</th>\n",
       "      <td>290</td>\n",
       "      <td>313</td>\n",
       "      <td>3</td>\n",
       "      <td>109</td>\n",
       "      <td>4.0</td>\n",
       "      <td>3.5</td>\n",
       "      <td>9.00</td>\n",
       "    </tr>\n",
       "    <tr>\n",
       "      <th>214</th>\n",
       "      <td>215</td>\n",
       "      <td>331</td>\n",
       "      <td>4</td>\n",
       "      <td>117</td>\n",
       "      <td>4.5</td>\n",
       "      <td>5.0</td>\n",
       "      <td>9.42</td>\n",
       "    </tr>\n",
       "    <tr>\n",
       "      <th>426</th>\n",
       "      <td>427</td>\n",
       "      <td>312</td>\n",
       "      <td>3</td>\n",
       "      <td>106</td>\n",
       "      <td>3.0</td>\n",
       "      <td>5.0</td>\n",
       "      <td>8.57</td>\n",
       "    </tr>\n",
       "    <tr>\n",
       "      <th>369</th>\n",
       "      <td>370</td>\n",
       "      <td>301</td>\n",
       "      <td>1</td>\n",
       "      <td>98</td>\n",
       "      <td>2.0</td>\n",
       "      <td>3.0</td>\n",
       "      <td>8.03</td>\n",
       "    </tr>\n",
       "    <tr>\n",
       "      <th>430</th>\n",
       "      <td>431</td>\n",
       "      <td>311</td>\n",
       "      <td>3</td>\n",
       "      <td>104</td>\n",
       "      <td>4.0</td>\n",
       "      <td>3.5</td>\n",
       "      <td>8.13</td>\n",
       "    </tr>\n",
       "    <tr>\n",
       "      <th>360</th>\n",
       "      <td>361</td>\n",
       "      <td>322</td>\n",
       "      <td>3</td>\n",
       "      <td>110</td>\n",
       "      <td>4.0</td>\n",
       "      <td>5.0</td>\n",
       "      <td>8.64</td>\n",
       "    </tr>\n",
       "    <tr>\n",
       "      <th>341</th>\n",
       "      <td>342</td>\n",
       "      <td>326</td>\n",
       "      <td>3</td>\n",
       "      <td>110</td>\n",
       "      <td>3.5</td>\n",
       "      <td>3.5</td>\n",
       "      <td>8.76</td>\n",
       "    </tr>\n",
       "    <tr>\n",
       "      <th>94</th>\n",
       "      <td>95</td>\n",
       "      <td>303</td>\n",
       "      <td>3</td>\n",
       "      <td>99</td>\n",
       "      <td>2.0</td>\n",
       "      <td>2.5</td>\n",
       "      <td>7.66</td>\n",
       "    </tr>\n",
       "    <tr>\n",
       "      <th>...</th>\n",
       "      <td>...</td>\n",
       "      <td>...</td>\n",
       "      <td>...</td>\n",
       "      <td>...</td>\n",
       "      <td>...</td>\n",
       "      <td>...</td>\n",
       "      <td>...</td>\n",
       "    </tr>\n",
       "    <tr>\n",
       "      <th>37</th>\n",
       "      <td>38</td>\n",
       "      <td>300</td>\n",
       "      <td>1</td>\n",
       "      <td>105</td>\n",
       "      <td>1.0</td>\n",
       "      <td>2.0</td>\n",
       "      <td>7.80</td>\n",
       "    </tr>\n",
       "    <tr>\n",
       "      <th>452</th>\n",
       "      <td>453</td>\n",
       "      <td>328</td>\n",
       "      <td>4</td>\n",
       "      <td>116</td>\n",
       "      <td>5.0</td>\n",
       "      <td>3.5</td>\n",
       "      <td>9.60</td>\n",
       "    </tr>\n",
       "    <tr>\n",
       "      <th>462</th>\n",
       "      <td>463</td>\n",
       "      <td>307</td>\n",
       "      <td>4</td>\n",
       "      <td>105</td>\n",
       "      <td>3.0</td>\n",
       "      <td>3.0</td>\n",
       "      <td>7.94</td>\n",
       "    </tr>\n",
       "    <tr>\n",
       "      <th>279</th>\n",
       "      <td>280</td>\n",
       "      <td>304</td>\n",
       "      <td>2</td>\n",
       "      <td>102</td>\n",
       "      <td>3.0</td>\n",
       "      <td>4.0</td>\n",
       "      <td>8.73</td>\n",
       "    </tr>\n",
       "    <tr>\n",
       "      <th>262</th>\n",
       "      <td>263</td>\n",
       "      <td>308</td>\n",
       "      <td>2</td>\n",
       "      <td>103</td>\n",
       "      <td>2.5</td>\n",
       "      <td>4.0</td>\n",
       "      <td>8.36</td>\n",
       "    </tr>\n",
       "    <tr>\n",
       "      <th>128</th>\n",
       "      <td>129</td>\n",
       "      <td>326</td>\n",
       "      <td>3</td>\n",
       "      <td>112</td>\n",
       "      <td>3.5</td>\n",
       "      <td>3.0</td>\n",
       "      <td>9.10</td>\n",
       "    </tr>\n",
       "    <tr>\n",
       "      <th>16</th>\n",
       "      <td>17</td>\n",
       "      <td>317</td>\n",
       "      <td>3</td>\n",
       "      <td>107</td>\n",
       "      <td>4.0</td>\n",
       "      <td>3.0</td>\n",
       "      <td>8.70</td>\n",
       "    </tr>\n",
       "    <tr>\n",
       "      <th>272</th>\n",
       "      <td>273</td>\n",
       "      <td>294</td>\n",
       "      <td>1</td>\n",
       "      <td>95</td>\n",
       "      <td>1.5</td>\n",
       "      <td>1.5</td>\n",
       "      <td>7.64</td>\n",
       "    </tr>\n",
       "    <tr>\n",
       "      <th>200</th>\n",
       "      <td>201</td>\n",
       "      <td>317</td>\n",
       "      <td>3</td>\n",
       "      <td>103</td>\n",
       "      <td>2.5</td>\n",
       "      <td>3.0</td>\n",
       "      <td>8.54</td>\n",
       "    </tr>\n",
       "    <tr>\n",
       "      <th>29</th>\n",
       "      <td>30</td>\n",
       "      <td>310</td>\n",
       "      <td>2</td>\n",
       "      <td>99</td>\n",
       "      <td>1.5</td>\n",
       "      <td>2.0</td>\n",
       "      <td>7.30</td>\n",
       "    </tr>\n",
       "    <tr>\n",
       "      <th>190</th>\n",
       "      <td>191</td>\n",
       "      <td>324</td>\n",
       "      <td>5</td>\n",
       "      <td>111</td>\n",
       "      <td>4.5</td>\n",
       "      <td>4.0</td>\n",
       "      <td>9.16</td>\n",
       "    </tr>\n",
       "    <tr>\n",
       "      <th>270</th>\n",
       "      <td>271</td>\n",
       "      <td>306</td>\n",
       "      <td>2</td>\n",
       "      <td>105</td>\n",
       "      <td>2.5</td>\n",
       "      <td>3.0</td>\n",
       "      <td>8.22</td>\n",
       "    </tr>\n",
       "    <tr>\n",
       "      <th>277</th>\n",
       "      <td>278</td>\n",
       "      <td>320</td>\n",
       "      <td>2</td>\n",
       "      <td>101</td>\n",
       "      <td>2.5</td>\n",
       "      <td>3.0</td>\n",
       "      <td>8.62</td>\n",
       "    </tr>\n",
       "    <tr>\n",
       "      <th>48</th>\n",
       "      <td>49</td>\n",
       "      <td>321</td>\n",
       "      <td>3</td>\n",
       "      <td>110</td>\n",
       "      <td>3.5</td>\n",
       "      <td>5.0</td>\n",
       "      <td>8.85</td>\n",
       "    </tr>\n",
       "    <tr>\n",
       "      <th>395</th>\n",
       "      <td>396</td>\n",
       "      <td>324</td>\n",
       "      <td>3</td>\n",
       "      <td>110</td>\n",
       "      <td>3.5</td>\n",
       "      <td>3.5</td>\n",
       "      <td>9.04</td>\n",
       "    </tr>\n",
       "    <tr>\n",
       "      <th>124</th>\n",
       "      <td>125</td>\n",
       "      <td>301</td>\n",
       "      <td>4</td>\n",
       "      <td>106</td>\n",
       "      <td>2.5</td>\n",
       "      <td>3.0</td>\n",
       "      <td>8.47</td>\n",
       "    </tr>\n",
       "    <tr>\n",
       "      <th>201</th>\n",
       "      <td>202</td>\n",
       "      <td>315</td>\n",
       "      <td>2</td>\n",
       "      <td>110</td>\n",
       "      <td>3.5</td>\n",
       "      <td>3.0</td>\n",
       "      <td>8.46</td>\n",
       "    </tr>\n",
       "    <tr>\n",
       "      <th>302</th>\n",
       "      <td>303</td>\n",
       "      <td>322</td>\n",
       "      <td>2</td>\n",
       "      <td>105</td>\n",
       "      <td>3.0</td>\n",
       "      <td>3.0</td>\n",
       "      <td>8.45</td>\n",
       "    </tr>\n",
       "    <tr>\n",
       "      <th>481</th>\n",
       "      <td>482</td>\n",
       "      <td>323</td>\n",
       "      <td>4</td>\n",
       "      <td>107</td>\n",
       "      <td>3.0</td>\n",
       "      <td>2.5</td>\n",
       "      <td>8.48</td>\n",
       "    </tr>\n",
       "    <tr>\n",
       "      <th>311</th>\n",
       "      <td>312</td>\n",
       "      <td>328</td>\n",
       "      <td>4</td>\n",
       "      <td>108</td>\n",
       "      <td>4.5</td>\n",
       "      <td>4.0</td>\n",
       "      <td>9.18</td>\n",
       "    </tr>\n",
       "    <tr>\n",
       "      <th>263</th>\n",
       "      <td>264</td>\n",
       "      <td>324</td>\n",
       "      <td>3</td>\n",
       "      <td>111</td>\n",
       "      <td>2.5</td>\n",
       "      <td>1.5</td>\n",
       "      <td>8.79</td>\n",
       "    </tr>\n",
       "    <tr>\n",
       "      <th>292</th>\n",
       "      <td>293</td>\n",
       "      <td>302</td>\n",
       "      <td>2</td>\n",
       "      <td>99</td>\n",
       "      <td>1.0</td>\n",
       "      <td>2.0</td>\n",
       "      <td>7.97</td>\n",
       "    </tr>\n",
       "    <tr>\n",
       "      <th>247</th>\n",
       "      <td>248</td>\n",
       "      <td>311</td>\n",
       "      <td>2</td>\n",
       "      <td>104</td>\n",
       "      <td>2.5</td>\n",
       "      <td>3.5</td>\n",
       "      <td>8.48</td>\n",
       "    </tr>\n",
       "    <tr>\n",
       "      <th>180</th>\n",
       "      <td>181</td>\n",
       "      <td>300</td>\n",
       "      <td>3</td>\n",
       "      <td>104</td>\n",
       "      <td>3.5</td>\n",
       "      <td>3.0</td>\n",
       "      <td>8.16</td>\n",
       "    </tr>\n",
       "    <tr>\n",
       "      <th>382</th>\n",
       "      <td>383</td>\n",
       "      <td>324</td>\n",
       "      <td>4</td>\n",
       "      <td>110</td>\n",
       "      <td>4.5</td>\n",
       "      <td>4.0</td>\n",
       "      <td>9.15</td>\n",
       "    </tr>\n",
       "    <tr>\n",
       "      <th>376</th>\n",
       "      <td>377</td>\n",
       "      <td>297</td>\n",
       "      <td>2</td>\n",
       "      <td>96</td>\n",
       "      <td>2.5</td>\n",
       "      <td>2.0</td>\n",
       "      <td>7.43</td>\n",
       "    </tr>\n",
       "    <tr>\n",
       "      <th>317</th>\n",
       "      <td>318</td>\n",
       "      <td>300</td>\n",
       "      <td>1</td>\n",
       "      <td>99</td>\n",
       "      <td>1.0</td>\n",
       "      <td>2.5</td>\n",
       "      <td>8.01</td>\n",
       "    </tr>\n",
       "    <tr>\n",
       "      <th>466</th>\n",
       "      <td>467</td>\n",
       "      <td>314</td>\n",
       "      <td>4</td>\n",
       "      <td>99</td>\n",
       "      <td>3.5</td>\n",
       "      <td>4.5</td>\n",
       "      <td>8.73</td>\n",
       "    </tr>\n",
       "    <tr>\n",
       "      <th>252</th>\n",
       "      <td>253</td>\n",
       "      <td>318</td>\n",
       "      <td>2</td>\n",
       "      <td>100</td>\n",
       "      <td>2.5</td>\n",
       "      <td>3.5</td>\n",
       "      <td>8.54</td>\n",
       "    </tr>\n",
       "    <tr>\n",
       "      <th>135</th>\n",
       "      <td>136</td>\n",
       "      <td>314</td>\n",
       "      <td>4</td>\n",
       "      <td>109</td>\n",
       "      <td>3.5</td>\n",
       "      <td>4.0</td>\n",
       "      <td>8.77</td>\n",
       "    </tr>\n",
       "  </tbody>\n",
       "</table>\n",
       "<p>100 rows × 7 columns</p>\n",
       "</div>"
      ],
      "text/plain": [
       "     Serial No.  GRE Score  University Rating  TOEFL Score  SOP  LOR   CGPA\n",
       "475         476        300                  3          101  3.5   2.5  7.88\n",
       "385         386        335                  5          117  5.0   5.0  9.82\n",
       "167         168        313                  3          102  2.0   3.0  8.27\n",
       "40           41        308                  3          110  3.5   3.0  8.00\n",
       "350         351        318                  3          107  3.0   3.5  8.27\n",
       "42           43        313                  2          107  2.5   2.0  8.50\n",
       "250         251        320                  3          104  3.0   2.5  8.57\n",
       "469         470        326                  4          114  4.0   3.5  9.16\n",
       "6             7        321                  3          109  3.0   4.0  8.20\n",
       "159         160        297                  1          100  1.5   2.0  7.90\n",
       "14           15        311                  3          104  3.5   2.0  8.20\n",
       "499         500        327                  4          113  4.5   4.5  9.04\n",
       "207         208        310                  3          102  3.5   4.0  8.02\n",
       "362         363        338                  5          115  4.5   5.0  9.23\n",
       "339         340        324                  5          107  3.5   4.0  8.66\n",
       "266         267        312                  2          105  2.0   2.5  8.45\n",
       "255         256        307                  4          110  4.0   4.5  8.37\n",
       "403         404        330                  4          116  4.0   3.5  9.23\n",
       "206         207        315                  2           99  3.5   3.0  7.89\n",
       "305         306        321                  3          109  3.5   3.5  8.80\n",
       "44           45        326                  5          113  4.5   4.0  9.40\n",
       "361         362        334                  4          116  4.0   3.5  9.54\n",
       "289         290        313                  3          109  4.0   3.5  9.00\n",
       "214         215        331                  4          117  4.5   5.0  9.42\n",
       "426         427        312                  3          106  3.0   5.0  8.57\n",
       "369         370        301                  1           98  2.0   3.0  8.03\n",
       "430         431        311                  3          104  4.0   3.5  8.13\n",
       "360         361        322                  3          110  4.0   5.0  8.64\n",
       "341         342        326                  3          110  3.5   3.5  8.76\n",
       "94           95        303                  3           99  2.0   2.5  7.66\n",
       "..          ...        ...                ...          ...  ...   ...   ...\n",
       "37           38        300                  1          105  1.0   2.0  7.80\n",
       "452         453        328                  4          116  5.0   3.5  9.60\n",
       "462         463        307                  4          105  3.0   3.0  7.94\n",
       "279         280        304                  2          102  3.0   4.0  8.73\n",
       "262         263        308                  2          103  2.5   4.0  8.36\n",
       "128         129        326                  3          112  3.5   3.0  9.10\n",
       "16           17        317                  3          107  4.0   3.0  8.70\n",
       "272         273        294                  1           95  1.5   1.5  7.64\n",
       "200         201        317                  3          103  2.5   3.0  8.54\n",
       "29           30        310                  2           99  1.5   2.0  7.30\n",
       "190         191        324                  5          111  4.5   4.0  9.16\n",
       "270         271        306                  2          105  2.5   3.0  8.22\n",
       "277         278        320                  2          101  2.5   3.0  8.62\n",
       "48           49        321                  3          110  3.5   5.0  8.85\n",
       "395         396        324                  3          110  3.5   3.5  9.04\n",
       "124         125        301                  4          106  2.5   3.0  8.47\n",
       "201         202        315                  2          110  3.5   3.0  8.46\n",
       "302         303        322                  2          105  3.0   3.0  8.45\n",
       "481         482        323                  4          107  3.0   2.5  8.48\n",
       "311         312        328                  4          108  4.5   4.0  9.18\n",
       "263         264        324                  3          111  2.5   1.5  8.79\n",
       "292         293        302                  2           99  1.0   2.0  7.97\n",
       "247         248        311                  2          104  2.5   3.5  8.48\n",
       "180         181        300                  3          104  3.5   3.0  8.16\n",
       "382         383        324                  4          110  4.5   4.0  9.15\n",
       "376         377        297                  2           96  2.5   2.0  7.43\n",
       "317         318        300                  1           99  1.0   2.5  8.01\n",
       "466         467        314                  4           99  3.5   4.5  8.73\n",
       "252         253        318                  2          100  2.5   3.5  8.54\n",
       "135         136        314                  4          109  3.5   4.0  8.77\n",
       "\n",
       "[100 rows x 7 columns]"
      ]
     },
     "execution_count": 34,
     "metadata": {},
     "output_type": "execute_result"
    }
   ],
   "source": [
    "X_test"
   ]
  },
  {
   "cell_type": "code",
   "execution_count": 35,
   "metadata": {},
   "outputs": [
    {
     "data": {
      "text/plain": [
       "SVC(C=1.0, cache_size=200, class_weight=None, coef0=0.0,\n",
       "  decision_function_shape='ovr', degree=3, gamma='auto_deprecated',\n",
       "  kernel='linear', max_iter=-1, probability=False, random_state=None,\n",
       "  shrinking=True, tol=0.001, verbose=False)"
      ]
     },
     "execution_count": 35,
     "metadata": {},
     "output_type": "execute_result"
    }
   ],
   "source": [
    "from sklearn.svm import SVC\n",
    "X_train, X_test, y_train, y_test = train_test_split(X, y, test_size = 0.20,random_state=12)\n",
    "\n",
    "svclassifier = SVC(kernel='linear')\n",
    "svclassifier.fit(X_train, y_train)\n"
   ]
  },
  {
   "cell_type": "code",
   "execution_count": 36,
   "metadata": {},
   "outputs": [],
   "source": [
    "from sklearn import neighbors, datasets, preprocessing\n",
    "from sklearn.model_selection import train_test_split\n",
    "from sklearn.metrics import accuracy_score\n",
    "from sklearn.metrics import classification_report\n",
    "from sklearn.metrics import confusion_matrix\n"
   ]
  },
  {
   "cell_type": "code",
   "execution_count": 37,
   "metadata": {},
   "outputs": [
    {
     "data": {
      "image/png": "[encoded data removed]",
      "text/plain": [
       "<Figure size 432x288 with 1 Axes>"
      ]
     },
     "metadata": {
      "needs_background": "light"
     },
     "output_type": "display_data"
    }
   ],
   "source": [
    "#making Prediction\n",
    "y_pred = svclassifier.predict(X_test)\n",
    "#y_test.head(20)\n",
    "plt.xlabel('Toefl Score')\n",
    "plt.ylabel('Admit')\n",
    "#print(X_test['GRE Score'])\n",
    "#plt.scatter(X_test['LOR '], y_pred)\n",
    "\n",
    "plt.scatter(X_test['TOEFL Score'], y_pred)\n",
    "plt.savefig('svm_toefl.png')\n"
   ]
  },
  {
   "cell_type": "code",
   "execution_count": 38,
   "metadata": {},
   "outputs": [
    {
     "data": {
      "image/png": "[encoded data removed]",
      "text/plain": [
       "<Figure size 432x288 with 1 Axes>"
      ]
     },
     "metadata": {
      "needs_background": "light"
     },
     "output_type": "display_data"
    }
   ],
   "source": [
    "y_pred = svclassifier.predict(X_test)\n",
    "plt.xlabel('LOR Score')\n",
    "plt.ylabel('Admit')\n",
    "#print(X_test['GRE Score'])\n",
    "#plt.scatter(X_test['LOR '], y_pred)\n",
    "\n",
    "plt.scatter(X_test['LOR '], y_pred)\n",
    "plt.savefig('svm_lor.png')\n"
   ]
  },
  {
   "cell_type": "code",
   "execution_count": 39,
   "metadata": {},
   "outputs": [
    {
     "data": {
      "image/png": "[encoded data removed]",
      "text/plain": [
       "<Figure size 432x288 with 1 Axes>"
      ]
     },
     "metadata": {
      "needs_background": "light"
     },
     "output_type": "display_data"
    }
   ],
   "source": [
    "y_pred = svclassifier.predict(X_test)\n",
    "plt.xlabel('SOP ')\n",
    "plt.ylabel('Admit')\n",
    "#print(X_test['GRE Score'])\n",
    "#plt.scatter(X_test['LOR '], y_pred)\n",
    "\n",
    "plt.scatter(X_test['SOP'], y_pred)\n",
    "plt.savefig('svm_SOP.png')\n"
   ]
  },
  {
   "cell_type": "code",
   "execution_count": 40,
   "metadata": {},
   "outputs": [
    {
     "data": {
      "image/png": "[encoded data removed]",
      "text/plain": [
       "<Figure size 432x288 with 1 Axes>"
      ]
     },
     "metadata": {
      "needs_background": "light"
     },
     "output_type": "display_data"
    }
   ],
   "source": [
    "y_pred = svclassifier.predict(X_test)\n",
    "plt.xlabel('CGPA')\n",
    "plt.ylabel('Admit')\n",
    "#print(X_test['GRE Score'])\n",
    "#plt.scatter(X_test['LOR '], y_pred)\n",
    "\n",
    "plt.scatter(X_test['CGPA'], y_pred)\n",
    "plt.savefig('svm_cgpa.png')\n"
   ]
  },
  {
   "cell_type": "code",
   "execution_count": 41,
   "metadata": {},
   "outputs": [
    {
     "data": {
      "text/plain": [
       "<matplotlib.collections.PathCollection at 0x242e03d6390>"
      ]
     },
     "execution_count": 41,
     "metadata": {},
     "output_type": "execute_result"
    },
    {
     "data": {
      "image/png": "[encoded data removed]",
      "text/plain": [
       "<Figure size 432x288 with 1 Axes>"
      ]
     },
     "metadata": {
      "needs_background": "light"
     },
     "output_type": "display_data"
    }
   ],
   "source": [
    "plt.scatter(X_test['GRE Score'], y_pred)"
   ]
  },
  {
   "cell_type": "code",
   "execution_count": 42,
   "metadata": {},
   "outputs": [
    {
     "data": {
      "text/plain": [
       "<matplotlib.collections.PathCollection at 0x242e0366278>"
      ]
     },
     "execution_count": 42,
     "metadata": {},
     "output_type": "execute_result"
    },
    {
     "data": {
      "image/png": "[encoded data removed]",
      "text/plain": [
       "<Figure size 432x288 with 1 Axes>"
      ]
     },
     "metadata": {
      "needs_background": "light"
     },
     "output_type": "display_data"
    }
   ],
   "source": [
    "plt.scatter(X_test['TOEFL Score'], y_pred)"
   ]
  },
  {
   "cell_type": "code",
   "execution_count": 43,
   "metadata": {},
   "outputs": [
    {
     "data": {
      "text/plain": [
       "<matplotlib.collections.PathCollection at 0x242e01d1588>"
      ]
     },
     "execution_count": 43,
     "metadata": {},
     "output_type": "execute_result"
    },
    {
     "data": {
      "image/png": "[encoded data removed]",
      "text/plain": [
       "<Figure size 432x288 with 1 Axes>"
      ]
     },
     "metadata": {
      "needs_background": "light"
     },
     "output_type": "display_data"
    }
   ],
   "source": [
    "plt.scatter(X_test['LOR '], y_pred)"
   ]
  },
  {
   "cell_type": "code",
   "execution_count": 44,
   "metadata": {},
   "outputs": [
    {
     "data": {
      "text/plain": [
       "<matplotlib.collections.PathCollection at 0x242e0044a20>"
      ]
     },
     "execution_count": 44,
     "metadata": {},
     "output_type": "execute_result"
    },
    {
     "data": {
      "image/png": "[encoded data removed]",
      "text/plain": [
       "<Figure size 432x288 with 1 Axes>"
      ]
     },
     "metadata": {
      "needs_background": "light"
     },
     "output_type": "display_data"
    }
   ],
   "source": [
    "plt.scatter(X_test['SOP'], y_pred)"
   ]
  },
  {
   "cell_type": "code",
   "execution_count": 45,
   "metadata": {},
   "outputs": [
    {
     "data": {
      "text/plain": [
       "<matplotlib.collections.PathCollection at 0x242dfe1f240>"
      ]
     },
     "execution_count": 45,
     "metadata": {},
     "output_type": "execute_result"
    },
    {
     "data": {
      "image/png": "[encoded data removed]",
      "text/plain": [
       "<Figure size 432x288 with 1 Axes>"
      ]
     },
     "metadata": {
      "needs_background": "light"
     },
     "output_type": "display_data"
    }
   ],
   "source": [
    "plt.scatter(X_test['University Rating'], y_pred)"
   ]
  },
  {
   "cell_type": "code",
   "execution_count": 46,
   "metadata": {},
   "outputs": [
    {
     "data": {
      "text/plain": [
       "<matplotlib.collections.PathCollection at 0x242e008c198>"
      ]
     },
     "execution_count": 46,
     "metadata": {},
     "output_type": "execute_result"
    },
    {
     "data": {
      "image/png": "[encoded data removed]",
      "text/plain": [
       "<Figure size 432x288 with 1 Axes>"
      ]
     },
     "metadata": {
      "needs_background": "light"
     },
     "output_type": "display_data"
    }
   ],
   "source": [
    "plt.scatter(X_test['CGPA'], y_pred)"
   ]
  },
  {
   "cell_type": "code",
   "execution_count": 58,
   "metadata": {},
   "outputs": [
    {
     "data": {
      "application/vnd.jupyter.widget-view+json": {
       "model_id": "fda472c9d0b5403fb96c08c354c27aa9",
       "version_major": 2,
       "version_minor": 0
      },
      "text/plain": [
       "Button(description='click me', style=ButtonStyle())"
      ]
     },
     "metadata": {},
     "output_type": "display_data"
    },
    {
     "name": "stdout",
     "output_type": "stream",
     "text": [
      "Admisiion_Predict.csv\n",
      "Admisiion_Predict.csv\n",
      "[0.91630367 0.8653602  0.85982953 0.76094725 0.54186131 0.94678005\n",
      " 0.7416699  0.83907294 0.80733338 0.77862876 0.66639234 0.65161479\n",
      " 0.92180923 0.80793739 0.93577511 0.63921106 0.61942593 0.83289513\n",
      " 0.92894567 0.85273295 0.60543669 0.72230617 0.72046152 0.9647935\n",
      " 0.83754595 0.53208274 0.63329805 0.79955202 0.65215706 0.62396831\n",
      " 0.54677253 0.64869939 0.72321512 0.76135863 0.75674841 0.71941997\n",
      " 0.65362631 0.78326352 0.71718897 0.60542437 0.57788343 0.44179147\n",
      " 0.45167433 0.54563372 0.71639567 0.69301116 0.75329026 0.9506053\n",
      " 0.58818454 0.68650646 0.60639028 0.61174903 0.79504367 0.60739012\n",
      " 0.60989221 0.77293011 0.59440758 0.73998765 0.83274278 0.64787247\n",
      " 0.62860011 0.68393305 0.64144632 0.69270326 0.68585649 0.7131703\n",
      " 0.79139837 0.73707449 0.75707011 0.51170941 0.7183456  0.71570562\n",
      " 0.72950686 0.84994971 0.78959126 0.79047722 0.88078065 0.72010204\n",
      " 0.88912513 0.79873214 0.63924174 0.77311836 0.73494163 0.68475537\n",
      " 0.58921959 0.48932814 0.75933624 0.85799767 0.53498281 0.93162248\n",
      " 0.70195385 0.74708984 0.98504161 0.62866849 0.80165285 0.72080989\n",
      " 0.80282459 0.56086369 0.52569974 0.73467244 0.90133649 0.71971614\n",
      " 0.73022276 0.74138868 0.70144199 0.67058746 0.83759421 0.7132086\n",
      " 0.81850705 0.966624   0.63027003 0.53848882 0.72187539 0.96429576\n",
      " 0.54381265 0.81830686 0.48101823 0.73480964 0.6065575  0.73306968\n",
      " 0.76731022 0.88312794 0.69623785 0.74458775 0.82001165 0.62746352\n",
      " 0.85517896 0.9800613  0.57607064 0.72536676 0.52066793 0.76555445\n",
      " 0.93210468 0.68566071 0.82775993 0.7839655  0.56115098 0.73897317\n",
      " 0.84613864 0.85303793 0.73442375 0.68525442 0.68191561 0.54889741\n",
      " 0.90799689 0.76433445 0.659982   0.8595578  0.71190229 0.8850581\n",
      " 0.68672123 0.77252621 0.57537184 0.82515674 0.66132462 0.75812621\n",
      " 0.90510479 0.61187056 0.69946745 0.99677046]\n",
      "[0.91630367 0.8653602  0.85982953 0.76094725 0.54186131 0.94678005\n",
      " 0.7416699  0.83907294 0.80733338 0.77862876 0.66639234 0.65161479\n",
      " 0.92180923 0.80793739 0.93577511 0.63921106 0.61942593 0.83289513\n",
      " 0.92894567 0.85273295 0.60543669 0.72230617 0.72046152 0.9647935\n",
      " 0.83754595 0.53208274 0.63329805 0.79955202 0.65215706 0.62396831\n",
      " 0.54677253 0.64869939 0.72321512 0.76135863 0.75674841 0.71941997\n",
      " 0.65362631 0.78326352 0.71718897 0.60542437 0.57788343 0.44179147\n",
      " 0.45167433 0.54563372 0.71639567 0.69301116 0.75329026 0.9506053\n",
      " 0.58818454 0.68650646 0.60639028 0.61174903 0.79504367 0.60739012\n",
      " 0.60989221 0.77293011 0.59440758 0.73998765 0.83274278 0.64787247\n",
      " 0.62860011 0.68393305 0.64144632 0.69270326 0.68585649 0.7131703\n",
      " 0.79139837 0.73707449 0.75707011 0.51170941 0.7183456  0.71570562\n",
      " 0.72950686 0.84994971 0.78959126 0.79047722 0.88078065 0.72010204\n",
      " 0.88912513 0.79873214 0.63924174 0.77311836 0.73494163 0.68475537\n",
      " 0.58921959 0.48932814 0.75933624 0.85799767 0.53498281 0.93162248\n",
      " 0.70195385 0.74708984 0.98504161 0.62866849 0.80165285 0.72080989\n",
      " 0.80282459 0.56086369 0.52569974 0.73467244 0.90133649 0.71971614\n",
      " 0.73022276 0.74138868 0.70144199 0.67058746 0.83759421 0.7132086\n",
      " 0.81850705 0.966624   0.63027003 0.53848882 0.72187539 0.96429576\n",
      " 0.54381265 0.81830686 0.48101823 0.73480964 0.6065575  0.73306968\n",
      " 0.76731022 0.88312794 0.69623785 0.74458775 0.82001165 0.62746352\n",
      " 0.85517896 0.9800613  0.57607064 0.72536676 0.52066793 0.76555445\n",
      " 0.93210468 0.68566071 0.82775993 0.7839655  0.56115098 0.73897317\n",
      " 0.84613864 0.85303793 0.73442375 0.68525442 0.68191561 0.54889741\n",
      " 0.90799689 0.76433445 0.659982   0.8595578  0.71190229 0.8850581\n",
      " 0.68672123 0.77252621 0.57537184 0.82515674 0.66132462 0.75812621\n",
      " 0.90510479 0.61187056 0.69946745 0.99677046]\n",
      "[0.91630367 0.8653602  0.85982953 0.76094725 0.54186131 0.94678005\n",
      " 0.7416699  0.83907294 0.80733338 0.77862876 0.66639234 0.65161479\n",
      " 0.92180923 0.80793739 0.93577511 0.63921106 0.61942593 0.83289513\n",
      " 0.92894567 0.85273295 0.60543669 0.72230617 0.72046152 0.9647935\n",
      " 0.83754595 0.53208274 0.63329805 0.79955202 0.65215706 0.62396831\n",
      " 0.54677253 0.64869939 0.72321512 0.76135863 0.75674841 0.71941997\n",
      " 0.65362631 0.78326352 0.71718897 0.60542437 0.57788343 0.44179147\n",
      " 0.45167433 0.54563372 0.71639567 0.69301116 0.75329026 0.9506053\n",
      " 0.58818454 0.68650646 0.60639028 0.61174903 0.79504367 0.60739012\n",
      " 0.60989221 0.77293011 0.59440758 0.73998765 0.83274278 0.64787247\n",
      " 0.62860011 0.68393305 0.64144632 0.69270326 0.68585649 0.7131703\n",
      " 0.79139837 0.73707449 0.75707011 0.51170941 0.7183456  0.71570562\n",
      " 0.72950686 0.84994971 0.78959126 0.79047722 0.88078065 0.72010204\n",
      " 0.88912513 0.79873214 0.63924174 0.77311836 0.73494163 0.68475537\n",
      " 0.58921959 0.48932814 0.75933624 0.85799767 0.53498281 0.93162248\n",
      " 0.70195385 0.74708984 0.98504161 0.62866849 0.80165285 0.72080989\n",
      " 0.80282459 0.56086369 0.52569974 0.73467244 0.90133649 0.71971614\n",
      " 0.73022276 0.74138868 0.70144199 0.67058746 0.83759421 0.7132086\n",
      " 0.81850705 0.966624   0.63027003 0.53848882 0.72187539 0.96429576\n",
      " 0.54381265 0.81830686 0.48101823 0.73480964 0.6065575  0.73306968\n",
      " 0.76731022 0.88312794 0.69623785 0.74458775 0.82001165 0.62746352\n",
      " 0.85517896 0.9800613  0.57607064 0.72536676 0.52066793 0.76555445\n",
      " 0.93210468 0.68566071 0.82775993 0.7839655  0.56115098 0.73897317\n",
      " 0.84613864 0.85303793 0.73442375 0.68525442 0.68191561 0.54889741\n",
      " 0.90799689 0.76433445 0.659982   0.8595578  0.71190229 0.8850581\n",
      " 0.68672123 0.77252621 0.57537184 0.82515674 0.66132462 0.75812621\n",
      " 0.90510479 0.61187056 0.69946745 0.99677046]\n"
     ]
    }
   ],
   "source": [
    "import tkinter as tk\n",
    "from tkinter.filedialog import askopenfilename\n",
    "import pandas as pd\n",
    "\n",
    "\n",
    "def import_csv_data():\n",
    "    global v\n",
    "    csv_file_path = askopenfilename()\n",
    "    print('Admisiion_Predict.csv')\n",
    "    v.set('Admission_Predict.csv')\n",
    "    df = pd.read_csv('Admission_Predict.csv')\n",
    "    \n",
    "\n",
    "root = tk.Tk()\n",
    "#frame=tk.Frame(root)\n",
    "#frame.pack()\n",
    "\n",
    "tk.Label(root, text='Admission.csv').grid(row=0, column=0)\n",
    "#tk.Label(frame, text='Admission.csv').grid(row=0, column=0)\n",
    "v = tk.StringVar()\n",
    "entry = tk.Entry(root, textvariable=v).grid(row=0, column=1)\n",
    "button=tk.Button(root, text='Browse Data Set',command=import_csv_data).grid(row=1, column=0)\n",
    "button=widgets.Button(description=\"click me\")\n",
    "\n",
    "#button1=tk.Button(frame, text='Browse Data Set',command=import_csv_data).grid(row=1, column=0)\n",
    "#button2=tk.Button(frame,text=\"clic me\")\n",
    "\n",
    "#button.display\n",
    "#button1.pack(side=tk.LEFT)\n",
    "\n",
    "display(button)\n",
    "def handle_submit(sender):\n",
    "    print(predictions)\n",
    "button.on_click(handle_submit)\n",
    "tk.Button(root, text='Close',command=root.destroy).grid(row=1, column=1)\n",
    "root.mainloop()\n"
   ]
  },
  {
   "cell_type": "code",
   "execution_count": null,
   "metadata": {},
   "outputs": [],
   "source": [
    "#%matplotlib inline\n",
    "#import numpy as np\n",
    "#import matplotlib.pyplot as plt\n",
    "#from scipy import stats\n",
    "\n",
    "#import seaborn as sns;sns.set()\n"
   ]
  },
  {
   "cell_type": "code",
   "execution_count": null,
   "metadata": {},
   "outputs": [],
   "source": [
    "#from sklearn.datasets.samples_generator import make_blobs \n",
    "#X,y=make_blobs(n_samples=50,centers=2,random_state=0,cluster_std=0.60)\n",
    "#plt.scatter(X[:, 0],X[:, 1],c=y,s=50,cmap='autmn')"
   ]
  },
  {
   "cell_type": "code",
   "execution_count": null,
   "metadata": {},
   "outputs": [],
   "source": []
  },
  {
   "cell_type": "code",
   "execution_count": 56,
   "metadata": {},
   "outputs": [],
   "source": [
    "from tkinter import *\n",
    "from tkinter.messagebox import *\n",
    "import sklearn \n",
    "from joblib import load\n",
    "from sklearn.svm import SVC\n",
    "#from sklearn.svm import train_test_split\n",
    "import os\n",
    "\n",
    "def get_values():\n",
    "    \"\"\"Returns the values of the txtboxes\"\"\"\n",
    "    return [\n",
    "        int(num1.get()),\n",
    "        int(num2.get()),\n",
    "        int(num3.get()),\n",
    "        float(num4.get()),\n",
    "        float(num5.get()),\n",
    "        float(num6.get())\n",
    "    ]\n",
    "\n",
    "\n",
    "def make_prediction():\n",
    "    '''Runs the model.jbl and get result'''\n",
    "    if not os.path.exists(\"model.jbl\"):\n",
    "        print(\"model.jbl not found. Please run Train.ipynb\")\n",
    "        return\n",
    "    x_values = get_values()\n",
    "    model = load(\"model.jbl\")\n",
    "    admit = model.predict([x_values])[0]\n",
    "    prediction = \"Admission: \" + (\"Yes\" if admit else \"No\")\n",
    "    show_txtbx.delete(0, 'end')\n",
    "    show_txtbx.insert(0, prediction)\n",
    "\n",
    "\n",
    "main = Tk()\n",
    "main.geometry(\"300x300\")\n",
    "\n",
    "# Add university rating\n",
    "Label(main, text=\"Enter GRE SCORE:\").grid(row=0)\n",
    "Label(main, text=\"Enter TOEFL score:\").grid(row=1) \n",
    "Label(main, text=\"Enter University rating:\").grid(row=2)\n",
    "Label(main, text=\"Enter SOP:\").grid(row=3)\n",
    "Label(main, text=\"Enter LOR:\").grid(row=4)\n",
    "Label(main, text=\"Enter CGPA:\").grid(row=5)\n",
    "Label(main, text=\"Prediction:\").grid(row=6)\n",
    "\n",
    "\n",
    "num1 = Entry(main)\n",
    "num2 = Entry(main)\n",
    "num3 = Entry(main)\n",
    "num4 = Entry(main)\n",
    "num5 = Entry(main)\n",
    "num6 = Entry(main)\n",
    "\n",
    "show_txtbx = Entry(main)\n",
    "\n",
    "\n",
    "num1.grid(row=0, column=1)\n",
    "num2.grid(row=1, column=1)\n",
    "num3.grid(row=2, column=1)\n",
    "num4.grid(row=3, column=1)\n",
    "num5.grid(row=4, column=1)\n",
    "num6.grid(row=5, column=1)\n",
    "\n",
    "show_txtbx.grid(row=6, column=1)\n",
    "\n",
    "\n",
    "Button(main, text=\"Quit\", command=main.destroy).grid(row=8, column=0, sticky=W, pady=4,padx=3)\n",
    "Button(main, text=\"Show\", command=make_prediction).grid(row=8, column=1, sticky=W, pady=4,padx=3)\n",
    "\n",
    "mainloop()\n"
   ]
  },
  {
   "cell_type": "code",
   "execution_count": null,
   "metadata": {},
   "outputs": [],
   "source": []
  },
  {
   "cell_type": "code",
   "execution_count": 57,
   "metadata": {},
   "outputs": [],
   "source": [
    "import numpy as np\n",
    "from tkinter import *\n",
    "from tkinter.messagebox import *\n",
    "from matplotlib.figure import Figure\n",
    "from matplotlib.backends.backend_tkagg import FigureCanvasTkAgg\n",
    "import os\n",
    "from sklearn.linear_model import LinearRegression as lm\n",
    "import matplotlib.pyplot as plt\n",
    "main = Tk()\n",
    "main.geometry(\"700x700\")\n",
    "\n",
    "def make_prediction():\n",
    "    data = pd.read_csv('Admission_predict.csv', encoding = 'latin-1')\n",
    "    canvas=FigureCanvasTkAgg(fig,main)\n",
    "    canvas.get_tk_widget().pack(side=Tk.TOP,fill=Tk.BOTH,expand=1)\n",
    "    x=df['GRe Score']\n",
    "    y=df['Admit']\n",
    "    x=x.reshape(len(x),1)\n",
    "    y=y.reshape(len(y),1)\n",
    "    x_train=x[:-230]\n",
    "    x_test=y[-230:]\n",
    "    y_train=x[:-230]\n",
    "    y_test=y[-230:]\n",
    "    \n",
    "    model=lm().fit(x_train,y_train)\n",
    "    predictions=model.predict(x_test)\n",
    "    plt.scatter(y_test,predictions)\n",
    "    plt.xlabel('GRE Score',s=20)\n",
    "    plt.ylabel('Admit',s=20)\n",
    "    fig=plt.Figure()\n",
    "    #fig.plot(range(60), range(60))\n",
    "\n",
    "    ax=fig.add_subplot(111)\n",
    "    plt.savefig('abc.jpg')\n",
    "\n",
    "    fig.canvas.draw_idle()\n",
    "    fig.subplots_adjust(bottom=0.25)\n",
    "    ax.plot(x,y)\n",
    "\n",
    "\n",
    "# Add university rating\n",
    "Label(main, text=\"Comparison of the graphs:\").grid(row=0)\n",
    "\n",
    "\n",
    "Button(main, text=\"Quit\", command=main.destroy).grid(row=8, column=0, sticky=W, pady=4,padx=3)\n",
    "\n",
    "Button(main, text=\"SVM graph\", command=make_prediction).grid(row=8, column=1, sticky=W, pady=4,padx=3)\n",
    "\n",
    "Button(main, text=\"Linear regression graph\",command=make_prediction).grid(row=8, column=3, sticky=W, pady=4,padx=3)\n",
    "Button(main, text=\"KNN graph\",command=main.destroy).grid(row=8, column=6, sticky=W, pady=4,padx=3)\n",
    "\n",
    "#Button(main, text=\"graph\",command=main.destroy).grid(row=8, column=6, sticky=W, pady=4,padx=3)\n",
    "\n",
    "\n",
    "mainloop()"
   ]
  },
  {
   "cell_type": "code",
   "execution_count": null,
   "metadata": {},
   "outputs": [],
   "source": []
  },
  {
   "cell_type": "code",
   "execution_count": null,
   "metadata": {},
   "outputs": [],
   "source": []
  },
  {
   "cell_type": "code",
   "execution_count": null,
   "metadata": {},
   "outputs": [],
   "source": []
  },
  {
   "cell_type": "code",
   "execution_count": null,
   "metadata": {},
   "outputs": [],
   "source": []
  },
  {
   "cell_type": "code",
   "execution_count": null,
   "metadata": {},
   "outputs": [],
   "source": []
  },
  {
   "cell_type": "code",
   "execution_count": null,
   "metadata": {},
   "outputs": [],
   "source": []
  }
 ],
 "metadata": {
  "kernelspec": {
   "display_name": "Python 3",
   "language": "python",
   "name": "python3"
  },
  "language_info": {
   "codemirror_mode": {
    "name": "ipython",
    "version": 3
   },
   "file_extension": ".py",
   "mimetype": "text/x-python",
   "name": "python",
   "nbconvert_exporter": "python",
   "pygments_lexer": "ipython3",
   "version": "3.7.1"
  }
 },
 "nbformat": 4,
 "nbformat_minor": 2
}
