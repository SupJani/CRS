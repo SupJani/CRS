{
 "cells": [
  {
   "cell_type": "code",
   "execution_count": 13,
   "metadata": {},
   "outputs": [],
   "source": [
    "import sys\n",
    "import os\n",
    "\n",
    "from tkinter import *\n",
    "window= Tk()\n",
    "window.geometry('700x700')\n",
    "\n",
    "def display():\n",
    "    #root.geometry(\"400x300\")\n",
    "    os.system('python gui.py')\n",
    "    b1=tk.button(window, text=\"Next\",bg=\"white\",command=display)\n",
    "    b1.grid(columns=0, row=0)\n",
    "    b1.pack()\n",
    "    window.mainloop()\n",
    "    "
   ]
  },
  {
   "cell_type": "code",
   "execution_count": null,
   "metadata": {},
   "outputs": [],
   "source": []
  },
  {
   "cell_type": "code",
   "execution_count": null,
   "metadata": {},
   "outputs": [],
   "source": []
  }
 ],
 "metadata": {
  "kernelspec": {
   "display_name": "Python 3",
   "language": "python",
   "name": "python3"
  },
  "language_info": {
   "codemirror_mode": {
    "name": "ipython",
    "version": 3
   },
   "file_extension": ".py",
   "mimetype": "text/x-python",
   "name": "python",
   "nbconvert_exporter": "python",
   "pygments_lexer": "ipython3",
   "version": "3.7.4"
  }
 },
 "nbformat": 4,
 "nbformat_minor": 2
}
